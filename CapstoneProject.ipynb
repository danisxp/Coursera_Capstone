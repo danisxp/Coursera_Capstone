{
 "cells": [
  {
   "cell_type": "markdown",
   "metadata": {},
   "source": [
    "# Capstone Project"
   ]
  },
  {
   "cell_type": "markdown",
   "metadata": {},
   "source": [
    "### Introduction\n",
    "#### This notebook is part of the capstone project of coursera's course called applied Data Science Capstone"
   ]
  },
  {
   "cell_type": "markdown",
   "metadata": {},
   "source": [
    "### Table of Contents\n",
    "\n",
    "<div class=\"alert alert-block alert-info\" style=\"margin-top: 20px\">\n",
    "\n",
    "<font size = 3>\n",
    "\n",
    "1. <a href=\"#item1\">Getting and structuring the data</a>\n",
    "\n",
    "2. <a href=\"#item2\">Exploring the dataset</a>\n",
    "\n",
    "3. <a href=\"#item3\">Analyzing the data</a>\n",
    "\n",
    "</font>\n",
    "</div>"
   ]
  },
  {
   "cell_type": "code",
   "execution_count": 1,
   "metadata": {},
   "outputs": [],
   "source": [
    "#Libraries\n",
    "import pandas as pd\n",
    "import numpy as np\n",
    "import json\n",
    "from geopy.geocoders import Nominatim\n",
    "import requests\n",
    "from pandas.io.json import json_normalize\n",
    "import matplotlib.cm as cm\n",
    "import matplotlib.colors as colors\n",
    "from sklearn.cluster import KMeans\n",
    "import folium\n",
    "from folium.features import DivIcon"
   ]
  },
  {
   "cell_type": "markdown",
   "metadata": {},
   "source": [
    "### 1. Getting  and structuring the data"
   ]
  },
  {
   "cell_type": "markdown",
   "metadata": {},
   "source": [
    "#### Getting Toronto Data"
   ]
  },
  {
   "cell_type": "code",
   "execution_count": 2,
   "metadata": {},
   "outputs": [
    {
     "data": {
      "text/html": [
       "<div>\n",
       "<style scoped>\n",
       "    .dataframe tbody tr th:only-of-type {\n",
       "        vertical-align: middle;\n",
       "    }\n",
       "\n",
       "    .dataframe tbody tr th {\n",
       "        vertical-align: top;\n",
       "    }\n",
       "\n",
       "    .dataframe thead th {\n",
       "        text-align: right;\n",
       "    }\n",
       "</style>\n",
       "<table border=\"1\" class=\"dataframe\">\n",
       "  <thead>\n",
       "    <tr style=\"text-align: right;\">\n",
       "      <th></th>\n",
       "      <th>Postal Code</th>\n",
       "      <th>Borough</th>\n",
       "      <th>Neighbourhood</th>\n",
       "      <th>Latitude</th>\n",
       "      <th>Longitude</th>\n",
       "    </tr>\n",
       "  </thead>\n",
       "  <tbody>\n",
       "    <tr>\n",
       "      <th>0</th>\n",
       "      <td>M3A</td>\n",
       "      <td>North York</td>\n",
       "      <td>Parkwoods</td>\n",
       "      <td>43.753259</td>\n",
       "      <td>-79.329656</td>\n",
       "    </tr>\n",
       "    <tr>\n",
       "      <th>1</th>\n",
       "      <td>M4A</td>\n",
       "      <td>North York</td>\n",
       "      <td>Victoria Village</td>\n",
       "      <td>43.725882</td>\n",
       "      <td>-79.315572</td>\n",
       "    </tr>\n",
       "    <tr>\n",
       "      <th>2</th>\n",
       "      <td>M5A</td>\n",
       "      <td>Downtown Toronto</td>\n",
       "      <td>Regent Park, Harbourfront</td>\n",
       "      <td>43.654260</td>\n",
       "      <td>-79.360636</td>\n",
       "    </tr>\n",
       "    <tr>\n",
       "      <th>3</th>\n",
       "      <td>M6A</td>\n",
       "      <td>North York</td>\n",
       "      <td>Lawrence Manor, Lawrence Heights</td>\n",
       "      <td>43.718518</td>\n",
       "      <td>-79.464763</td>\n",
       "    </tr>\n",
       "    <tr>\n",
       "      <th>4</th>\n",
       "      <td>M7A</td>\n",
       "      <td>Downtown Toronto</td>\n",
       "      <td>Queen's Park, Ontario Provincial Government</td>\n",
       "      <td>43.662301</td>\n",
       "      <td>-79.389494</td>\n",
       "    </tr>\n",
       "  </tbody>\n",
       "</table>\n",
       "</div>"
      ],
      "text/plain": [
       "  Postal Code           Borough                                Neighbourhood  \\\n",
       "0         M3A        North York                                    Parkwoods   \n",
       "1         M4A        North York                             Victoria Village   \n",
       "2         M5A  Downtown Toronto                    Regent Park, Harbourfront   \n",
       "3         M6A        North York             Lawrence Manor, Lawrence Heights   \n",
       "4         M7A  Downtown Toronto  Queen's Park, Ontario Provincial Government   \n",
       "\n",
       "    Latitude  Longitude  \n",
       "0  43.753259 -79.329656  \n",
       "1  43.725882 -79.315572  \n",
       "2  43.654260 -79.360636  \n",
       "3  43.718518 -79.464763  \n",
       "4  43.662301 -79.389494  "
      ]
     },
     "execution_count": 2,
     "metadata": {},
     "output_type": "execute_result"
    }
   ],
   "source": [
    "# Getting data about Toronto Neighborhoods and their respective latitudes and logintudes\n",
    "filename = \"Toronto_Neighborhoods_locations.csv\"\n",
    "\n",
    "df = pd.read_csv(filename)\n",
    "\n",
    "df.head()"
   ]
  },
  {
   "cell_type": "markdown",
   "metadata": {},
   "source": [
    "#### Droping rows that Borough != from \"Toronto\""
   ]
  },
  {
   "cell_type": "code",
   "execution_count": 3,
   "metadata": {},
   "outputs": [],
   "source": [
    "TorontoDf = df.drop(df[~df[\"Borough\"].str.contains(\"Toronto\", na=False)].index).reset_index(drop=True)"
   ]
  },
  {
   "cell_type": "markdown",
   "metadata": {},
   "source": [
    "#### Rename column \"Neighbourhood\" to \"Neighborhood\""
   ]
  },
  {
   "cell_type": "code",
   "execution_count": 4,
   "metadata": {},
   "outputs": [],
   "source": [
    "TorontoDf.rename(columns={'Neighbourhood':'Neighborhood'}, inplace=True)"
   ]
  },
  {
   "cell_type": "code",
   "execution_count": 5,
   "metadata": {},
   "outputs": [
    {
     "data": {
      "text/html": [
       "<div>\n",
       "<style scoped>\n",
       "    .dataframe tbody tr th:only-of-type {\n",
       "        vertical-align: middle;\n",
       "    }\n",
       "\n",
       "    .dataframe tbody tr th {\n",
       "        vertical-align: top;\n",
       "    }\n",
       "\n",
       "    .dataframe thead th {\n",
       "        text-align: right;\n",
       "    }\n",
       "</style>\n",
       "<table border=\"1\" class=\"dataframe\">\n",
       "  <thead>\n",
       "    <tr style=\"text-align: right;\">\n",
       "      <th></th>\n",
       "      <th>Postal Code</th>\n",
       "      <th>Borough</th>\n",
       "      <th>Neighborhood</th>\n",
       "      <th>Latitude</th>\n",
       "      <th>Longitude</th>\n",
       "    </tr>\n",
       "  </thead>\n",
       "  <tbody>\n",
       "    <tr>\n",
       "      <th>0</th>\n",
       "      <td>M5A</td>\n",
       "      <td>Downtown Toronto</td>\n",
       "      <td>Regent Park, Harbourfront</td>\n",
       "      <td>43.654260</td>\n",
       "      <td>-79.360636</td>\n",
       "    </tr>\n",
       "    <tr>\n",
       "      <th>1</th>\n",
       "      <td>M7A</td>\n",
       "      <td>Downtown Toronto</td>\n",
       "      <td>Queen's Park, Ontario Provincial Government</td>\n",
       "      <td>43.662301</td>\n",
       "      <td>-79.389494</td>\n",
       "    </tr>\n",
       "    <tr>\n",
       "      <th>2</th>\n",
       "      <td>M5B</td>\n",
       "      <td>Downtown Toronto</td>\n",
       "      <td>Garden District, Ryerson</td>\n",
       "      <td>43.657162</td>\n",
       "      <td>-79.378937</td>\n",
       "    </tr>\n",
       "    <tr>\n",
       "      <th>3</th>\n",
       "      <td>M5C</td>\n",
       "      <td>Downtown Toronto</td>\n",
       "      <td>St. James Town</td>\n",
       "      <td>43.651494</td>\n",
       "      <td>-79.375418</td>\n",
       "    </tr>\n",
       "    <tr>\n",
       "      <th>4</th>\n",
       "      <td>M4E</td>\n",
       "      <td>East Toronto</td>\n",
       "      <td>The Beaches</td>\n",
       "      <td>43.676357</td>\n",
       "      <td>-79.293031</td>\n",
       "    </tr>\n",
       "  </tbody>\n",
       "</table>\n",
       "</div>"
      ],
      "text/plain": [
       "  Postal Code           Borough                                 Neighborhood  \\\n",
       "0         M5A  Downtown Toronto                    Regent Park, Harbourfront   \n",
       "1         M7A  Downtown Toronto  Queen's Park, Ontario Provincial Government   \n",
       "2         M5B  Downtown Toronto                     Garden District, Ryerson   \n",
       "3         M5C  Downtown Toronto                               St. James Town   \n",
       "4         M4E      East Toronto                                  The Beaches   \n",
       "\n",
       "    Latitude  Longitude  \n",
       "0  43.654260 -79.360636  \n",
       "1  43.662301 -79.389494  \n",
       "2  43.657162 -79.378937  \n",
       "3  43.651494 -79.375418  \n",
       "4  43.676357 -79.293031  "
      ]
     },
     "execution_count": 5,
     "metadata": {},
     "output_type": "execute_result"
    }
   ],
   "source": [
    "TorontoDf.head()"
   ]
  },
  {
   "cell_type": "markdown",
   "metadata": {},
   "source": [
    "#### Getting Toronto latitude and logintude"
   ]
  },
  {
   "cell_type": "code",
   "execution_count": 6,
   "metadata": {},
   "outputs": [
    {
     "name": "stdout",
     "output_type": "stream",
     "text": [
      "The geograpical coordinate of Toronto are 43.6534817, -79.3839347.\n"
     ]
    }
   ],
   "source": [
    "# Getting logintude and latitude of Toronto\n",
    "address = 'Toronto, Canada'\n",
    "\n",
    "geolocator = Nominatim(user_agent=\"ca_explorer\")\n",
    "location = geolocator.geocode(address)\n",
    "latitude = location.latitude\n",
    "longitude = location.longitude\n",
    "print('The geograpical coordinate of Toronto are {}, {}.'.format(latitude, longitude))"
   ]
  },
  {
   "cell_type": "markdown",
   "metadata": {},
   "source": [
    "### 2. Exploring the dataset"
   ]
  },
  {
   "cell_type": "markdown",
   "metadata": {},
   "source": [
    "####  Creating a map of Toronto's neighborhoods"
   ]
  },
  {
   "cell_type": "code",
   "execution_count": 7,
   "metadata": {},
   "outputs": [
    {
     "data": {
      "text/html": [
       "<div style=\"width:100%;\"><div style=\"position:relative;width:100%;height:0;padding-bottom:60%;\"><span style=\"color:#565656\">Make this Notebook Trusted to load map: File -> Trust Notebook</span><iframe src=\"about:blank\" style=\"position:absolute;width:100%;height:100%;left:0;top:0;border:none !important;\" data-html=PCFET0NUWVBFIGh0bWw+CjxoZWFkPiAgICAKICAgIDxtZXRhIGh0dHAtZXF1aXY9ImNvbnRlbnQtdHlwZSIgY29udGVudD0idGV4dC9odG1sOyBjaGFyc2V0PVVURi04IiAvPgogICAgCiAgICAgICAgPHNjcmlwdD4KICAgICAgICAgICAgTF9OT19UT1VDSCA9IGZhbHNlOwogICAgICAgICAgICBMX0RJU0FCTEVfM0QgPSBmYWxzZTsKICAgICAgICA8L3NjcmlwdD4KICAgIAogICAgPHNjcmlwdCBzcmM9Imh0dHBzOi8vY2RuLmpzZGVsaXZyLm5ldC9ucG0vbGVhZmxldEAxLjYuMC9kaXN0L2xlYWZsZXQuanMiPjwvc2NyaXB0PgogICAgPHNjcmlwdCBzcmM9Imh0dHBzOi8vY29kZS5qcXVlcnkuY29tL2pxdWVyeS0xLjEyLjQubWluLmpzIj48L3NjcmlwdD4KICAgIDxzY3JpcHQgc3JjPSJodHRwczovL21heGNkbi5ib290c3RyYXBjZG4uY29tL2Jvb3RzdHJhcC8zLjIuMC9qcy9ib290c3RyYXAubWluLmpzIj48L3NjcmlwdD4KICAgIDxzY3JpcHQgc3JjPSJodHRwczovL2NkbmpzLmNsb3VkZmxhcmUuY29tL2FqYXgvbGlicy9MZWFmbGV0LmF3ZXNvbWUtbWFya2Vycy8yLjAuMi9sZWFmbGV0LmF3ZXNvbWUtbWFya2Vycy5qcyI+PC9zY3JpcHQ+CiAgICA8bGluayByZWw9InN0eWxlc2hlZXQiIGhyZWY9Imh0dHBzOi8vY2RuLmpzZGVsaXZyLm5ldC9ucG0vbGVhZmxldEAxLjYuMC9kaXN0L2xlYWZsZXQuY3NzIi8+CiAgICA8bGluayByZWw9InN0eWxlc2hlZXQiIGhyZWY9Imh0dHBzOi8vbWF4Y2RuLmJvb3RzdHJhcGNkbi5jb20vYm9vdHN0cmFwLzMuMi4wL2Nzcy9ib290c3RyYXAubWluLmNzcyIvPgogICAgPGxpbmsgcmVsPSJzdHlsZXNoZWV0IiBocmVmPSJodHRwczovL21heGNkbi5ib290c3RyYXBjZG4uY29tL2Jvb3RzdHJhcC8zLjIuMC9jc3MvYm9vdHN0cmFwLXRoZW1lLm1pbi5jc3MiLz4KICAgIDxsaW5rIHJlbD0ic3R5bGVzaGVldCIgaHJlZj0iaHR0cHM6Ly9tYXhjZG4uYm9vdHN0cmFwY2RuLmNvbS9mb250LWF3ZXNvbWUvNC42LjMvY3NzL2ZvbnQtYXdlc29tZS5taW4uY3NzIi8+CiAgICA8bGluayByZWw9InN0eWxlc2hlZXQiIGhyZWY9Imh0dHBzOi8vY2RuanMuY2xvdWRmbGFyZS5jb20vYWpheC9saWJzL0xlYWZsZXQuYXdlc29tZS1tYXJrZXJzLzIuMC4yL2xlYWZsZXQuYXdlc29tZS1tYXJrZXJzLmNzcyIvPgogICAgPGxpbmsgcmVsPSJzdHlsZXNoZWV0IiBocmVmPSJodHRwczovL3Jhd2Nkbi5naXRoYWNrLmNvbS9weXRob24tdmlzdWFsaXphdGlvbi9mb2xpdW0vbWFzdGVyL2ZvbGl1bS90ZW1wbGF0ZXMvbGVhZmxldC5hd2Vzb21lLnJvdGF0ZS5jc3MiLz4KICAgIDxzdHlsZT5odG1sLCBib2R5IHt3aWR0aDogMTAwJTtoZWlnaHQ6IDEwMCU7bWFyZ2luOiAwO3BhZGRpbmc6IDA7fTwvc3R5bGU+CiAgICA8c3R5bGU+I21hcCB7cG9zaXRpb246YWJzb2x1dGU7dG9wOjA7Ym90dG9tOjA7cmlnaHQ6MDtsZWZ0OjA7fTwvc3R5bGU+CiAgICAKICAgICAgICAgICAgPG1ldGEgbmFtZT0idmlld3BvcnQiIGNvbnRlbnQ9IndpZHRoPWRldmljZS13aWR0aCwKICAgICAgICAgICAgICAgIGluaXRpYWwtc2NhbGU9MS4wLCBtYXhpbXVtLXNjYWxlPTEuMCwgdXNlci1zY2FsYWJsZT1ubyIgLz4KICAgICAgICAgICAgPHN0eWxlPgogICAgICAgICAgICAgICAgI21hcF8xZWJkYTYzMzIyZjg0ZTJmYTIyNWM4MGJjNzVjOTRhZCB7CiAgICAgICAgICAgICAgICAgICAgcG9zaXRpb246IHJlbGF0aXZlOwogICAgICAgICAgICAgICAgICAgIHdpZHRoOiAxMDAuMCU7CiAgICAgICAgICAgICAgICAgICAgaGVpZ2h0OiAxMDAuMCU7CiAgICAgICAgICAgICAgICAgICAgbGVmdDogMC4wJTsKICAgICAgICAgICAgICAgICAgICB0b3A6IDAuMCU7CiAgICAgICAgICAgICAgICB9CiAgICAgICAgICAgIDwvc3R5bGU+CiAgICAgICAgCjwvaGVhZD4KPGJvZHk+ICAgIAogICAgCiAgICAgICAgICAgIDxkaXYgY2xhc3M9ImZvbGl1bS1tYXAiIGlkPSJtYXBfMWViZGE2MzMyMmY4NGUyZmEyMjVjODBiYzc1Yzk0YWQiID48L2Rpdj4KICAgICAgICAKPC9ib2R5Pgo8c2NyaXB0PiAgICAKICAgIAogICAgICAgICAgICB2YXIgbWFwXzFlYmRhNjMzMjJmODRlMmZhMjI1YzgwYmM3NWM5NGFkID0gTC5tYXAoCiAgICAgICAgICAgICAgICAibWFwXzFlYmRhNjMzMjJmODRlMmZhMjI1YzgwYmM3NWM5NGFkIiwKICAgICAgICAgICAgICAgIHsKICAgICAgICAgICAgICAgICAgICBjZW50ZXI6IFs0My42NTM0ODE3LCAtNzkuMzgzOTM0N10sCiAgICAgICAgICAgICAgICAgICAgY3JzOiBMLkNSUy5FUFNHMzg1NywKICAgICAgICAgICAgICAgICAgICB6b29tOiAxMiwKICAgICAgICAgICAgICAgICAgICB6b29tQ29udHJvbDogdHJ1ZSwKICAgICAgICAgICAgICAgICAgICBwcmVmZXJDYW52YXM6IGZhbHNlLAogICAgICAgICAgICAgICAgfQogICAgICAgICAgICApOwoKICAgICAgICAgICAgCgogICAgICAgIAogICAgCiAgICAgICAgICAgIHZhciB0aWxlX2xheWVyXzBmYzBjOTZiY2IzYTQ2NzVhYmViMTg3MzI0YWJjMmM0ID0gTC50aWxlTGF5ZXIoCiAgICAgICAgICAgICAgICAiaHR0cHM6Ly97c30udGlsZS5vcGVuc3RyZWV0bWFwLm9yZy97en0ve3h9L3t5fS5wbmciLAogICAgICAgICAgICAgICAgeyJhdHRyaWJ1dGlvbiI6ICJEYXRhIGJ5IFx1MDAyNmNvcHk7IFx1MDAzY2EgaHJlZj1cImh0dHA6Ly9vcGVuc3RyZWV0bWFwLm9yZ1wiXHUwMDNlT3BlblN0cmVldE1hcFx1MDAzYy9hXHUwMDNlLCB1bmRlciBcdTAwM2NhIGhyZWY9XCJodHRwOi8vd3d3Lm9wZW5zdHJlZXRtYXAub3JnL2NvcHlyaWdodFwiXHUwMDNlT0RiTFx1MDAzYy9hXHUwMDNlLiIsICJkZXRlY3RSZXRpbmEiOiBmYWxzZSwgIm1heE5hdGl2ZVpvb20iOiAxOCwgIm1heFpvb20iOiAxOCwgIm1pblpvb20iOiAwLCAibm9XcmFwIjogZmFsc2UsICJvcGFjaXR5IjogMSwgInN1YmRvbWFpbnMiOiAiYWJjIiwgInRtcyI6IGZhbHNlfQogICAgICAgICAgICApLmFkZFRvKG1hcF8xZWJkYTYzMzIyZjg0ZTJmYTIyNWM4MGJjNzVjOTRhZCk7CiAgICAgICAgCiAgICAKICAgICAgICAgICAgdmFyIGNpcmNsZV9tYXJrZXJfZjljMGU1YzU1ZThkNDBjNWFjMGFjOWUyZDQ1ZjA5ZjQgPSBMLmNpcmNsZU1hcmtlcigKICAgICAgICAgICAgICAgIFs0My42NTQyNTk5LCAtNzkuMzYwNjM1OV0sCiAgICAgICAgICAgICAgICB7ImJ1YmJsaW5nTW91c2VFdmVudHMiOiB0cnVlLCAiY29sb3IiOiAiYmx1ZSIsICJkYXNoQXJyYXkiOiBudWxsLCAiZGFzaE9mZnNldCI6IG51bGwsICJmaWxsIjogdHJ1ZSwgImZpbGxDb2xvciI6ICIjMzE4NmNjIiwgImZpbGxPcGFjaXR5IjogMC43LCAiZmlsbFJ1bGUiOiAiZXZlbm9kZCIsICJsaW5lQ2FwIjogInJvdW5kIiwgImxpbmVKb2luIjogInJvdW5kIiwgIm9wYWNpdHkiOiAxLjAsICJyYWRpdXMiOiA1LCAic3Ryb2tlIjogdHJ1ZSwgIndlaWdodCI6IDN9CiAgICAgICAgICAgICkuYWRkVG8obWFwXzFlYmRhNjMzMjJmODRlMmZhMjI1YzgwYmM3NWM5NGFkKTsKICAgICAgICAKICAgIAogICAgICAgIHZhciBwb3B1cF81OTgxYmUzNmM3MDM0NDU5YTNiYjgxMTFlMmViMjc4MyA9IEwucG9wdXAoeyJtYXhXaWR0aCI6ICIxMDAlIn0pOwoKICAgICAgICAKICAgICAgICAgICAgdmFyIGh0bWxfY2Y4MDNmNDYzNDMwNGM5NThmZmEwMTI5MzZlM2RlZTUgPSAkKGA8ZGl2IGlkPSJodG1sX2NmODAzZjQ2MzQzMDRjOTU4ZmZhMDEyOTM2ZTNkZWU1IiBzdHlsZT0id2lkdGg6IDEwMC4wJTsgaGVpZ2h0OiAxMDAuMCU7Ij5SZWdlbnQgUGFyaywgSGFyYm91cmZyb250LCBEb3dudG93biBUb3JvbnRvPC9kaXY+YClbMF07CiAgICAgICAgICAgIHBvcHVwXzU5ODFiZTM2YzcwMzQ0NTlhM2JiODExMWUyZWIyNzgzLnNldENvbnRlbnQoaHRtbF9jZjgwM2Y0NjM0MzA0Yzk1OGZmYTAxMjkzNmUzZGVlNSk7CiAgICAgICAgCgogICAgICAgIGNpcmNsZV9tYXJrZXJfZjljMGU1YzU1ZThkNDBjNWFjMGFjOWUyZDQ1ZjA5ZjQuYmluZFBvcHVwKHBvcHVwXzU5ODFiZTM2YzcwMzQ0NTlhM2JiODExMWUyZWIyNzgzKQogICAgICAgIDsKCiAgICAgICAgCiAgICAKICAgIAogICAgICAgICAgICB2YXIgY2lyY2xlX21hcmtlcl80Y2NmMzUwM2JmZWU0M2UzOWFmZGQ1ZmQzNDA1NzA3MyA9IEwuY2lyY2xlTWFya2VyKAogICAgICAgICAgICAgICAgWzQzLjY2MjMwMTUsIC03OS4zODk0OTM4XSwKICAgICAgICAgICAgICAgIHsiYnViYmxpbmdNb3VzZUV2ZW50cyI6IHRydWUsICJjb2xvciI6ICJibHVlIiwgImRhc2hBcnJheSI6IG51bGwsICJkYXNoT2Zmc2V0IjogbnVsbCwgImZpbGwiOiB0cnVlLCAiZmlsbENvbG9yIjogIiMzMTg2Y2MiLCAiZmlsbE9wYWNpdHkiOiAwLjcsICJmaWxsUnVsZSI6ICJldmVub2RkIiwgImxpbmVDYXAiOiAicm91bmQiLCAibGluZUpvaW4iOiAicm91bmQiLCAib3BhY2l0eSI6IDEuMCwgInJhZGl1cyI6IDUsICJzdHJva2UiOiB0cnVlLCAid2VpZ2h0IjogM30KICAgICAgICAgICAgKS5hZGRUbyhtYXBfMWViZGE2MzMyMmY4NGUyZmEyMjVjODBiYzc1Yzk0YWQpOwogICAgICAgIAogICAgCiAgICAgICAgdmFyIHBvcHVwX2JhMTg5ODFhMjAwZjRlNzliY2M5ZDcwYjI4MjIzMjVlID0gTC5wb3B1cCh7Im1heFdpZHRoIjogIjEwMCUifSk7CgogICAgICAgIAogICAgICAgICAgICB2YXIgaHRtbF9mM2RmNTBlNzQyZDI0M2RlYTU3NzllZWI1NzdkYjczZCA9ICQoYDxkaXYgaWQ9Imh0bWxfZjNkZjUwZTc0MmQyNDNkZWE1Nzc5ZWViNTc3ZGI3M2QiIHN0eWxlPSJ3aWR0aDogMTAwLjAlOyBoZWlnaHQ6IDEwMC4wJTsiPlF1ZWVuJiMzOTtzIFBhcmssIE9udGFyaW8gUHJvdmluY2lhbCBHb3Zlcm5tZW50LCBEb3dudG93biBUb3JvbnRvPC9kaXY+YClbMF07CiAgICAgICAgICAgIHBvcHVwX2JhMTg5ODFhMjAwZjRlNzliY2M5ZDcwYjI4MjIzMjVlLnNldENvbnRlbnQoaHRtbF9mM2RmNTBlNzQyZDI0M2RlYTU3NzllZWI1NzdkYjczZCk7CiAgICAgICAgCgogICAgICAgIGNpcmNsZV9tYXJrZXJfNGNjZjM1MDNiZmVlNDNlMzlhZmRkNWZkMzQwNTcwNzMuYmluZFBvcHVwKHBvcHVwX2JhMTg5ODFhMjAwZjRlNzliY2M5ZDcwYjI4MjIzMjVlKQogICAgICAgIDsKCiAgICAgICAgCiAgICAKICAgIAogICAgICAgICAgICB2YXIgY2lyY2xlX21hcmtlcl85YTJmZjAzZmZmMzI0MzFjODIwZmY3ZWQwNWQ3YTIwNCA9IEwuY2lyY2xlTWFya2VyKAogICAgICAgICAgICAgICAgWzQzLjY1NzE2MTgsIC03OS4zNzg5MzcwOTk5OTk5OV0sCiAgICAgICAgICAgICAgICB7ImJ1YmJsaW5nTW91c2VFdmVudHMiOiB0cnVlLCAiY29sb3IiOiAiYmx1ZSIsICJkYXNoQXJyYXkiOiBudWxsLCAiZGFzaE9mZnNldCI6IG51bGwsICJmaWxsIjogdHJ1ZSwgImZpbGxDb2xvciI6ICIjMzE4NmNjIiwgImZpbGxPcGFjaXR5IjogMC43LCAiZmlsbFJ1bGUiOiAiZXZlbm9kZCIsICJsaW5lQ2FwIjogInJvdW5kIiwgImxpbmVKb2luIjogInJvdW5kIiwgIm9wYWNpdHkiOiAxLjAsICJyYWRpdXMiOiA1LCAic3Ryb2tlIjogdHJ1ZSwgIndlaWdodCI6IDN9CiAgICAgICAgICAgICkuYWRkVG8obWFwXzFlYmRhNjMzMjJmODRlMmZhMjI1YzgwYmM3NWM5NGFkKTsKICAgICAgICAKICAgIAogICAgICAgIHZhciBwb3B1cF9lODU5ZmRiYzZmMzA0ZTUyYjkzOGY4NjQ0NTk2YmYxYyA9IEwucG9wdXAoeyJtYXhXaWR0aCI6ICIxMDAlIn0pOwoKICAgICAgICAKICAgICAgICAgICAgdmFyIGh0bWxfYmM5Nzg2YjNkYzYyNDFjYmI5Y2VkOGI1MzVjNGFhMzEgPSAkKGA8ZGl2IGlkPSJodG1sX2JjOTc4NmIzZGM2MjQxY2JiOWNlZDhiNTM1YzRhYTMxIiBzdHlsZT0id2lkdGg6IDEwMC4wJTsgaGVpZ2h0OiAxMDAuMCU7Ij5HYXJkZW4gRGlzdHJpY3QsIFJ5ZXJzb24sIERvd250b3duIFRvcm9udG88L2Rpdj5gKVswXTsKICAgICAgICAgICAgcG9wdXBfZTg1OWZkYmM2ZjMwNGU1MmI5MzhmODY0NDU5NmJmMWMuc2V0Q29udGVudChodG1sX2JjOTc4NmIzZGM2MjQxY2JiOWNlZDhiNTM1YzRhYTMxKTsKICAgICAgICAKCiAgICAgICAgY2lyY2xlX21hcmtlcl85YTJmZjAzZmZmMzI0MzFjODIwZmY3ZWQwNWQ3YTIwNC5iaW5kUG9wdXAocG9wdXBfZTg1OWZkYmM2ZjMwNGU1MmI5MzhmODY0NDU5NmJmMWMpCiAgICAgICAgOwoKICAgICAgICAKICAgIAogICAgCiAgICAgICAgICAgIHZhciBjaXJjbGVfbWFya2VyX2M2ZmNjMGI3ZTk2MDRmM2JhMmNhNTIyZWZmYzY4YjJjID0gTC5jaXJjbGVNYXJrZXIoCiAgICAgICAgICAgICAgICBbNDMuNjUxNDkzOSwgLTc5LjM3NTQxNzldLAogICAgICAgICAgICAgICAgeyJidWJibGluZ01vdXNlRXZlbnRzIjogdHJ1ZSwgImNvbG9yIjogImJsdWUiLCAiZGFzaEFycmF5IjogbnVsbCwgImRhc2hPZmZzZXQiOiBudWxsLCAiZmlsbCI6IHRydWUsICJmaWxsQ29sb3IiOiAiIzMxODZjYyIsICJmaWxsT3BhY2l0eSI6IDAuNywgImZpbGxSdWxlIjogImV2ZW5vZGQiLCAibGluZUNhcCI6ICJyb3VuZCIsICJsaW5lSm9pbiI6ICJyb3VuZCIsICJvcGFjaXR5IjogMS4wLCAicmFkaXVzIjogNSwgInN0cm9rZSI6IHRydWUsICJ3ZWlnaHQiOiAzfQogICAgICAgICAgICApLmFkZFRvKG1hcF8xZWJkYTYzMzIyZjg0ZTJmYTIyNWM4MGJjNzVjOTRhZCk7CiAgICAgICAgCiAgICAKICAgICAgICB2YXIgcG9wdXBfYmMwNDI4YzA5YzM3NGViYWIyYWE0MDI2MWMyZDljYWYgPSBMLnBvcHVwKHsibWF4V2lkdGgiOiAiMTAwJSJ9KTsKCiAgICAgICAgCiAgICAgICAgICAgIHZhciBodG1sXzI0MzFiZjRkMzUwYzQ5NWY4OTBjYjlmNzVlNjlmMTg0ID0gJChgPGRpdiBpZD0iaHRtbF8yNDMxYmY0ZDM1MGM0OTVmODkwY2I5Zjc1ZTY5ZjE4NCIgc3R5bGU9IndpZHRoOiAxMDAuMCU7IGhlaWdodDogMTAwLjAlOyI+U3QuIEphbWVzIFRvd24sIERvd250b3duIFRvcm9udG88L2Rpdj5gKVswXTsKICAgICAgICAgICAgcG9wdXBfYmMwNDI4YzA5YzM3NGViYWIyYWE0MDI2MWMyZDljYWYuc2V0Q29udGVudChodG1sXzI0MzFiZjRkMzUwYzQ5NWY4OTBjYjlmNzVlNjlmMTg0KTsKICAgICAgICAKCiAgICAgICAgY2lyY2xlX21hcmtlcl9jNmZjYzBiN2U5NjA0ZjNiYTJjYTUyMmVmZmM2OGIyYy5iaW5kUG9wdXAocG9wdXBfYmMwNDI4YzA5YzM3NGViYWIyYWE0MDI2MWMyZDljYWYpCiAgICAgICAgOwoKICAgICAgICAKICAgIAogICAgCiAgICAgICAgICAgIHZhciBjaXJjbGVfbWFya2VyXzQ1NDI1NDhhZjBmYjRlMTZhYWVlZDUwNGMwOTk2OGNhID0gTC5jaXJjbGVNYXJrZXIoCiAgICAgICAgICAgICAgICBbNDMuNjc2MzU3Mzk5OTk5OTksIC03OS4yOTMwMzEyXSwKICAgICAgICAgICAgICAgIHsiYnViYmxpbmdNb3VzZUV2ZW50cyI6IHRydWUsICJjb2xvciI6ICJibHVlIiwgImRhc2hBcnJheSI6IG51bGwsICJkYXNoT2Zmc2V0IjogbnVsbCwgImZpbGwiOiB0cnVlLCAiZmlsbENvbG9yIjogIiMzMTg2Y2MiLCAiZmlsbE9wYWNpdHkiOiAwLjcsICJmaWxsUnVsZSI6ICJldmVub2RkIiwgImxpbmVDYXAiOiAicm91bmQiLCAibGluZUpvaW4iOiAicm91bmQiLCAib3BhY2l0eSI6IDEuMCwgInJhZGl1cyI6IDUsICJzdHJva2UiOiB0cnVlLCAid2VpZ2h0IjogM30KICAgICAgICAgICAgKS5hZGRUbyhtYXBfMWViZGE2MzMyMmY4NGUyZmEyMjVjODBiYzc1Yzk0YWQpOwogICAgICAgIAogICAgCiAgICAgICAgdmFyIHBvcHVwXzhkMjZiMmQ4ZTNjZjRkODNiNGZiNzk2NDFkZDI2MDZjID0gTC5wb3B1cCh7Im1heFdpZHRoIjogIjEwMCUifSk7CgogICAgICAgIAogICAgICAgICAgICB2YXIgaHRtbF84YzA0ODljZTRkNGY0ZDg5YjE5M2I1ZTNlNDI3NWVhZCA9ICQoYDxkaXYgaWQ9Imh0bWxfOGMwNDg5Y2U0ZDRmNGQ4OWIxOTNiNWUzZTQyNzVlYWQiIHN0eWxlPSJ3aWR0aDogMTAwLjAlOyBoZWlnaHQ6IDEwMC4wJTsiPlRoZSBCZWFjaGVzLCBFYXN0IFRvcm9udG88L2Rpdj5gKVswXTsKICAgICAgICAgICAgcG9wdXBfOGQyNmIyZDhlM2NmNGQ4M2I0ZmI3OTY0MWRkMjYwNmMuc2V0Q29udGVudChodG1sXzhjMDQ4OWNlNGQ0ZjRkODliMTkzYjVlM2U0Mjc1ZWFkKTsKICAgICAgICAKCiAgICAgICAgY2lyY2xlX21hcmtlcl80NTQyNTQ4YWYwZmI0ZTE2YWFlZWQ1MDRjMDk5NjhjYS5iaW5kUG9wdXAocG9wdXBfOGQyNmIyZDhlM2NmNGQ4M2I0ZmI3OTY0MWRkMjYwNmMpCiAgICAgICAgOwoKICAgICAgICAKICAgIAogICAgCiAgICAgICAgICAgIHZhciBjaXJjbGVfbWFya2VyXzRmMzhjNTEwZDBkYTQ1NmE4NWZmZjY0NWZmZTU4NDNiID0gTC5jaXJjbGVNYXJrZXIoCiAgICAgICAgICAgICAgICBbNDMuNjQ0NzcwOCwgLTc5LjM3MzMwNjRdLAogICAgICAgICAgICAgICAgeyJidWJibGluZ01vdXNlRXZlbnRzIjogdHJ1ZSwgImNvbG9yIjogImJsdWUiLCAiZGFzaEFycmF5IjogbnVsbCwgImRhc2hPZmZzZXQiOiBudWxsLCAiZmlsbCI6IHRydWUsICJmaWxsQ29sb3IiOiAiIzMxODZjYyIsICJmaWxsT3BhY2l0eSI6IDAuNywgImZpbGxSdWxlIjogImV2ZW5vZGQiLCAibGluZUNhcCI6ICJyb3VuZCIsICJsaW5lSm9pbiI6ICJyb3VuZCIsICJvcGFjaXR5IjogMS4wLCAicmFkaXVzIjogNSwgInN0cm9rZSI6IHRydWUsICJ3ZWlnaHQiOiAzfQogICAgICAgICAgICApLmFkZFRvKG1hcF8xZWJkYTYzMzIyZjg0ZTJmYTIyNWM4MGJjNzVjOTRhZCk7CiAgICAgICAgCiAgICAKICAgICAgICB2YXIgcG9wdXBfNzMyNjI5ZGE4ZDhmNGY3N2FmNzM4OWFmY2MyNDUyOWUgPSBMLnBvcHVwKHsibWF4V2lkdGgiOiAiMTAwJSJ9KTsKCiAgICAgICAgCiAgICAgICAgICAgIHZhciBodG1sX2YyNDQxYmNjYmQ3ODRiNmNhZGQwMWI1ZDZlYTQ0NGRiID0gJChgPGRpdiBpZD0iaHRtbF9mMjQ0MWJjY2JkNzg0YjZjYWRkMDFiNWQ2ZWE0NDRkYiIgc3R5bGU9IndpZHRoOiAxMDAuMCU7IGhlaWdodDogMTAwLjAlOyI+QmVyY3p5IFBhcmssIERvd250b3duIFRvcm9udG88L2Rpdj5gKVswXTsKICAgICAgICAgICAgcG9wdXBfNzMyNjI5ZGE4ZDhmNGY3N2FmNzM4OWFmY2MyNDUyOWUuc2V0Q29udGVudChodG1sX2YyNDQxYmNjYmQ3ODRiNmNhZGQwMWI1ZDZlYTQ0NGRiKTsKICAgICAgICAKCiAgICAgICAgY2lyY2xlX21hcmtlcl80ZjM4YzUxMGQwZGE0NTZhODVmZmY2NDVmZmU1ODQzYi5iaW5kUG9wdXAocG9wdXBfNzMyNjI5ZGE4ZDhmNGY3N2FmNzM4OWFmY2MyNDUyOWUpCiAgICAgICAgOwoKICAgICAgICAKICAgIAogICAgCiAgICAgICAgICAgIHZhciBjaXJjbGVfbWFya2VyXzRiNDJlYmZiYzBiMDQzZWE4MDA2ZWY2ZjkyZTJiZTM4ID0gTC5jaXJjbGVNYXJrZXIoCiAgICAgICAgICAgICAgICBbNDMuNjU3OTUyNCwgLTc5LjM4NzM4MjZdLAogICAgICAgICAgICAgICAgeyJidWJibGluZ01vdXNlRXZlbnRzIjogdHJ1ZSwgImNvbG9yIjogImJsdWUiLCAiZGFzaEFycmF5IjogbnVsbCwgImRhc2hPZmZzZXQiOiBudWxsLCAiZmlsbCI6IHRydWUsICJmaWxsQ29sb3IiOiAiIzMxODZjYyIsICJmaWxsT3BhY2l0eSI6IDAuNywgImZpbGxSdWxlIjogImV2ZW5vZGQiLCAibGluZUNhcCI6ICJyb3VuZCIsICJsaW5lSm9pbiI6ICJyb3VuZCIsICJvcGFjaXR5IjogMS4wLCAicmFkaXVzIjogNSwgInN0cm9rZSI6IHRydWUsICJ3ZWlnaHQiOiAzfQogICAgICAgICAgICApLmFkZFRvKG1hcF8xZWJkYTYzMzIyZjg0ZTJmYTIyNWM4MGJjNzVjOTRhZCk7CiAgICAgICAgCiAgICAKICAgICAgICB2YXIgcG9wdXBfOWQ1ODZkMmY0OGJlNDNkYTg3OTRiYjNmM2Q4NWVmNDggPSBMLnBvcHVwKHsibWF4V2lkdGgiOiAiMTAwJSJ9KTsKCiAgICAgICAgCiAgICAgICAgICAgIHZhciBodG1sX2JlYWFmMzAyYjlmMjRhOWM4M2RlNDg5YWUzZTI1YzllID0gJChgPGRpdiBpZD0iaHRtbF9iZWFhZjMwMmI5ZjI0YTljODNkZTQ4OWFlM2UyNWM5ZSIgc3R5bGU9IndpZHRoOiAxMDAuMCU7IGhlaWdodDogMTAwLjAlOyI+Q2VudHJhbCBCYXkgU3RyZWV0LCBEb3dudG93biBUb3JvbnRvPC9kaXY+YClbMF07CiAgICAgICAgICAgIHBvcHVwXzlkNTg2ZDJmNDhiZTQzZGE4Nzk0YmIzZjNkODVlZjQ4LnNldENvbnRlbnQoaHRtbF9iZWFhZjMwMmI5ZjI0YTljODNkZTQ4OWFlM2UyNWM5ZSk7CiAgICAgICAgCgogICAgICAgIGNpcmNsZV9tYXJrZXJfNGI0MmViZmJjMGIwNDNlYTgwMDZlZjZmOTJlMmJlMzguYmluZFBvcHVwKHBvcHVwXzlkNTg2ZDJmNDhiZTQzZGE4Nzk0YmIzZjNkODVlZjQ4KQogICAgICAgIDsKCiAgICAgICAgCiAgICAKICAgIAogICAgICAgICAgICB2YXIgY2lyY2xlX21hcmtlcl9mZjMyMmJiOWVkZTc0YzMxODBmN2NjODdmMzgwODkwMCA9IEwuY2lyY2xlTWFya2VyKAogICAgICAgICAgICAgICAgWzQzLjY2OTU0MiwgLTc5LjQyMjU2MzddLAogICAgICAgICAgICAgICAgeyJidWJibGluZ01vdXNlRXZlbnRzIjogdHJ1ZSwgImNvbG9yIjogImJsdWUiLCAiZGFzaEFycmF5IjogbnVsbCwgImRhc2hPZmZzZXQiOiBudWxsLCAiZmlsbCI6IHRydWUsICJmaWxsQ29sb3IiOiAiIzMxODZjYyIsICJmaWxsT3BhY2l0eSI6IDAuNywgImZpbGxSdWxlIjogImV2ZW5vZGQiLCAibGluZUNhcCI6ICJyb3VuZCIsICJsaW5lSm9pbiI6ICJyb3VuZCIsICJvcGFjaXR5IjogMS4wLCAicmFkaXVzIjogNSwgInN0cm9rZSI6IHRydWUsICJ3ZWlnaHQiOiAzfQogICAgICAgICAgICApLmFkZFRvKG1hcF8xZWJkYTYzMzIyZjg0ZTJmYTIyNWM4MGJjNzVjOTRhZCk7CiAgICAgICAgCiAgICAKICAgICAgICB2YXIgcG9wdXBfYWJlZDI4Y2Q1YTA1NGE5OTllM2I0Njc0MmNkN2E1ZWUgPSBMLnBvcHVwKHsibWF4V2lkdGgiOiAiMTAwJSJ9KTsKCiAgICAgICAgCiAgICAgICAgICAgIHZhciBodG1sXzM2Yjc2NGVlMDAyMDQxYWY4NDc4MjJhMmFlZTAwNDZmID0gJChgPGRpdiBpZD0iaHRtbF8zNmI3NjRlZTAwMjA0MWFmODQ3ODIyYTJhZWUwMDQ2ZiIgc3R5bGU9IndpZHRoOiAxMDAuMCU7IGhlaWdodDogMTAwLjAlOyI+Q2hyaXN0aWUsIERvd250b3duIFRvcm9udG88L2Rpdj5gKVswXTsKICAgICAgICAgICAgcG9wdXBfYWJlZDI4Y2Q1YTA1NGE5OTllM2I0Njc0MmNkN2E1ZWUuc2V0Q29udGVudChodG1sXzM2Yjc2NGVlMDAyMDQxYWY4NDc4MjJhMmFlZTAwNDZmKTsKICAgICAgICAKCiAgICAgICAgY2lyY2xlX21hcmtlcl9mZjMyMmJiOWVkZTc0YzMxODBmN2NjODdmMzgwODkwMC5iaW5kUG9wdXAocG9wdXBfYWJlZDI4Y2Q1YTA1NGE5OTllM2I0Njc0MmNkN2E1ZWUpCiAgICAgICAgOwoKICAgICAgICAKICAgIAogICAgCiAgICAgICAgICAgIHZhciBjaXJjbGVfbWFya2VyX2FkNjZmZGRhZTgyMDRmOGZhYmRmODQ0NGZkMTcyNzVhID0gTC5jaXJjbGVNYXJrZXIoCiAgICAgICAgICAgICAgICBbNDMuNjUwNTcxMjAwMDAwMDEsIC03OS4zODQ1Njc1XSwKICAgICAgICAgICAgICAgIHsiYnViYmxpbmdNb3VzZUV2ZW50cyI6IHRydWUsICJjb2xvciI6ICJibHVlIiwgImRhc2hBcnJheSI6IG51bGwsICJkYXNoT2Zmc2V0IjogbnVsbCwgImZpbGwiOiB0cnVlLCAiZmlsbENvbG9yIjogIiMzMTg2Y2MiLCAiZmlsbE9wYWNpdHkiOiAwLjcsICJmaWxsUnVsZSI6ICJldmVub2RkIiwgImxpbmVDYXAiOiAicm91bmQiLCAibGluZUpvaW4iOiAicm91bmQiLCAib3BhY2l0eSI6IDEuMCwgInJhZGl1cyI6IDUsICJzdHJva2UiOiB0cnVlLCAid2VpZ2h0IjogM30KICAgICAgICAgICAgKS5hZGRUbyhtYXBfMWViZGE2MzMyMmY4NGUyZmEyMjVjODBiYzc1Yzk0YWQpOwogICAgICAgIAogICAgCiAgICAgICAgdmFyIHBvcHVwX2ZkNmIzNzY3ZDk1YzRkNGNhN2U4NzE0NDg2YzRmZmZjID0gTC5wb3B1cCh7Im1heFdpZHRoIjogIjEwMCUifSk7CgogICAgICAgIAogICAgICAgICAgICB2YXIgaHRtbF8yOGViZmM1MWQ5Mzc0N2ZiYjFlYWRlOGRmNzA0NTMzOCA9ICQoYDxkaXYgaWQ9Imh0bWxfMjhlYmZjNTFkOTM3NDdmYmIxZWFkZThkZjcwNDUzMzgiIHN0eWxlPSJ3aWR0aDogMTAwLjAlOyBoZWlnaHQ6IDEwMC4wJTsiPlJpY2htb25kLCBBZGVsYWlkZSwgS2luZywgRG93bnRvd24gVG9yb250bzwvZGl2PmApWzBdOwogICAgICAgICAgICBwb3B1cF9mZDZiMzc2N2Q5NWM0ZDRjYTdlODcxNDQ4NmM0ZmZmYy5zZXRDb250ZW50KGh0bWxfMjhlYmZjNTFkOTM3NDdmYmIxZWFkZThkZjcwNDUzMzgpOwogICAgICAgIAoKICAgICAgICBjaXJjbGVfbWFya2VyX2FkNjZmZGRhZTgyMDRmOGZhYmRmODQ0NGZkMTcyNzVhLmJpbmRQb3B1cChwb3B1cF9mZDZiMzc2N2Q5NWM0ZDRjYTdlODcxNDQ4NmM0ZmZmYykKICAgICAgICA7CgogICAgICAgIAogICAgCiAgICAKICAgICAgICAgICAgdmFyIGNpcmNsZV9tYXJrZXJfYzQ4MjY2OGM3YjY4NGNmNjljMmE1YTFiNTYzZmFmNGQgPSBMLmNpcmNsZU1hcmtlcigKICAgICAgICAgICAgICAgIFs0My42NjkwMDUxMDAwMDAwMSwgLTc5LjQ0MjI1OTNdLAogICAgICAgICAgICAgICAgeyJidWJibGluZ01vdXNlRXZlbnRzIjogdHJ1ZSwgImNvbG9yIjogImJsdWUiLCAiZGFzaEFycmF5IjogbnVsbCwgImRhc2hPZmZzZXQiOiBudWxsLCAiZmlsbCI6IHRydWUsICJmaWxsQ29sb3IiOiAiIzMxODZjYyIsICJmaWxsT3BhY2l0eSI6IDAuNywgImZpbGxSdWxlIjogImV2ZW5vZGQiLCAibGluZUNhcCI6ICJyb3VuZCIsICJsaW5lSm9pbiI6ICJyb3VuZCIsICJvcGFjaXR5IjogMS4wLCAicmFkaXVzIjogNSwgInN0cm9rZSI6IHRydWUsICJ3ZWlnaHQiOiAzfQogICAgICAgICAgICApLmFkZFRvKG1hcF8xZWJkYTYzMzIyZjg0ZTJmYTIyNWM4MGJjNzVjOTRhZCk7CiAgICAgICAgCiAgICAKICAgICAgICB2YXIgcG9wdXBfOTI2NjBkMmU4YWM5NGRhNThiZDc4NGUzNmYzNjgyZTggPSBMLnBvcHVwKHsibWF4V2lkdGgiOiAiMTAwJSJ9KTsKCiAgICAgICAgCiAgICAgICAgICAgIHZhciBodG1sXzkyNWY5OGFkODNjMDQyOGRiNTJlOWI3OTEzYjhmNGE3ID0gJChgPGRpdiBpZD0iaHRtbF85MjVmOThhZDgzYzA0MjhkYjUyZTliNzkxM2I4ZjRhNyIgc3R5bGU9IndpZHRoOiAxMDAuMCU7IGhlaWdodDogMTAwLjAlOyI+RHVmZmVyaW4sIERvdmVyY291cnQgVmlsbGFnZSwgV2VzdCBUb3JvbnRvPC9kaXY+YClbMF07CiAgICAgICAgICAgIHBvcHVwXzkyNjYwZDJlOGFjOTRkYTU4YmQ3ODRlMzZmMzY4MmU4LnNldENvbnRlbnQoaHRtbF85MjVmOThhZDgzYzA0MjhkYjUyZTliNzkxM2I4ZjRhNyk7CiAgICAgICAgCgogICAgICAgIGNpcmNsZV9tYXJrZXJfYzQ4MjY2OGM3YjY4NGNmNjljMmE1YTFiNTYzZmFmNGQuYmluZFBvcHVwKHBvcHVwXzkyNjYwZDJlOGFjOTRkYTU4YmQ3ODRlMzZmMzY4MmU4KQogICAgICAgIDsKCiAgICAgICAgCiAgICAKICAgIAogICAgICAgICAgICB2YXIgY2lyY2xlX21hcmtlcl8yNDVhYWM3YzU4ODY0NGFjYmMxN2ZkNTlmMDcxNWQwNCA9IEwuY2lyY2xlTWFya2VyKAogICAgICAgICAgICAgICAgWzQzLjY0MDgxNTcsIC03OS4zODE3NTIyOTk5OTk5N10sCiAgICAgICAgICAgICAgICB7ImJ1YmJsaW5nTW91c2VFdmVudHMiOiB0cnVlLCAiY29sb3IiOiAiYmx1ZSIsICJkYXNoQXJyYXkiOiBudWxsLCAiZGFzaE9mZnNldCI6IG51bGwsICJmaWxsIjogdHJ1ZSwgImZpbGxDb2xvciI6ICIjMzE4NmNjIiwgImZpbGxPcGFjaXR5IjogMC43LCAiZmlsbFJ1bGUiOiAiZXZlbm9kZCIsICJsaW5lQ2FwIjogInJvdW5kIiwgImxpbmVKb2luIjogInJvdW5kIiwgIm9wYWNpdHkiOiAxLjAsICJyYWRpdXMiOiA1LCAic3Ryb2tlIjogdHJ1ZSwgIndlaWdodCI6IDN9CiAgICAgICAgICAgICkuYWRkVG8obWFwXzFlYmRhNjMzMjJmODRlMmZhMjI1YzgwYmM3NWM5NGFkKTsKICAgICAgICAKICAgIAogICAgICAgIHZhciBwb3B1cF84YmU0MDRjMzA1MzY0OGQzODM5NGVkMDhmMTBlMjMyNCA9IEwucG9wdXAoeyJtYXhXaWR0aCI6ICIxMDAlIn0pOwoKICAgICAgICAKICAgICAgICAgICAgdmFyIGh0bWxfMmM3ZjIyMGYzOWY3NDhkMWJhM2FmYjQxNGViNDc1MmMgPSAkKGA8ZGl2IGlkPSJodG1sXzJjN2YyMjBmMzlmNzQ4ZDFiYTNhZmI0MTRlYjQ3NTJjIiBzdHlsZT0id2lkdGg6IDEwMC4wJTsgaGVpZ2h0OiAxMDAuMCU7Ij5IYXJib3VyZnJvbnQgRWFzdCwgVW5pb24gU3RhdGlvbiwgVG9yb250byBJc2xhbmRzLCBEb3dudG93biBUb3JvbnRvPC9kaXY+YClbMF07CiAgICAgICAgICAgIHBvcHVwXzhiZTQwNGMzMDUzNjQ4ZDM4Mzk0ZWQwOGYxMGUyMzI0LnNldENvbnRlbnQoaHRtbF8yYzdmMjIwZjM5Zjc0OGQxYmEzYWZiNDE0ZWI0NzUyYyk7CiAgICAgICAgCgogICAgICAgIGNpcmNsZV9tYXJrZXJfMjQ1YWFjN2M1ODg2NDRhY2JjMTdmZDU5ZjA3MTVkMDQuYmluZFBvcHVwKHBvcHVwXzhiZTQwNGMzMDUzNjQ4ZDM4Mzk0ZWQwOGYxMGUyMzI0KQogICAgICAgIDsKCiAgICAgICAgCiAgICAKICAgIAogICAgICAgICAgICB2YXIgY2lyY2xlX21hcmtlcl9kMTRiNzA1NDc2YzI0M2YyYjMyMGYyNzY4NzZhMDNmNSA9IEwuY2lyY2xlTWFya2VyKAogICAgICAgICAgICAgICAgWzQzLjY0NzkyNjcwMDAwMDAwNiwgLTc5LjQxOTc0OTddLAogICAgICAgICAgICAgICAgeyJidWJibGluZ01vdXNlRXZlbnRzIjogdHJ1ZSwgImNvbG9yIjogImJsdWUiLCAiZGFzaEFycmF5IjogbnVsbCwgImRhc2hPZmZzZXQiOiBudWxsLCAiZmlsbCI6IHRydWUsICJmaWxsQ29sb3IiOiAiIzMxODZjYyIsICJmaWxsT3BhY2l0eSI6IDAuNywgImZpbGxSdWxlIjogImV2ZW5vZGQiLCAibGluZUNhcCI6ICJyb3VuZCIsICJsaW5lSm9pbiI6ICJyb3VuZCIsICJvcGFjaXR5IjogMS4wLCAicmFkaXVzIjogNSwgInN0cm9rZSI6IHRydWUsICJ3ZWlnaHQiOiAzfQogICAgICAgICAgICApLmFkZFRvKG1hcF8xZWJkYTYzMzIyZjg0ZTJmYTIyNWM4MGJjNzVjOTRhZCk7CiAgICAgICAgCiAgICAKICAgICAgICB2YXIgcG9wdXBfZGMxNjgyNDZhNmU3NDFhZmJiN2Y2YTgwOWUxNDZkMDQgPSBMLnBvcHVwKHsibWF4V2lkdGgiOiAiMTAwJSJ9KTsKCiAgICAgICAgCiAgICAgICAgICAgIHZhciBodG1sX2Q4M2QxZTcwMDZlYjRhZGE4YmExMDExMWQyMTAxNTllID0gJChgPGRpdiBpZD0iaHRtbF9kODNkMWU3MDA2ZWI0YWRhOGJhMTAxMTFkMjEwMTU5ZSIgc3R5bGU9IndpZHRoOiAxMDAuMCU7IGhlaWdodDogMTAwLjAlOyI+TGl0dGxlIFBvcnR1Z2FsLCBUcmluaXR5LCBXZXN0IFRvcm9udG88L2Rpdj5gKVswXTsKICAgICAgICAgICAgcG9wdXBfZGMxNjgyNDZhNmU3NDFhZmJiN2Y2YTgwOWUxNDZkMDQuc2V0Q29udGVudChodG1sX2Q4M2QxZTcwMDZlYjRhZGE4YmExMDExMWQyMTAxNTllKTsKICAgICAgICAKCiAgICAgICAgY2lyY2xlX21hcmtlcl9kMTRiNzA1NDc2YzI0M2YyYjMyMGYyNzY4NzZhMDNmNS5iaW5kUG9wdXAocG9wdXBfZGMxNjgyNDZhNmU3NDFhZmJiN2Y2YTgwOWUxNDZkMDQpCiAgICAgICAgOwoKICAgICAgICAKICAgIAogICAgCiAgICAgICAgICAgIHZhciBjaXJjbGVfbWFya2VyX2FhYjQzN2JjMjMyNjQzMDdiZWRhMTk1M2Y3YzIwM2FmID0gTC5jaXJjbGVNYXJrZXIoCiAgICAgICAgICAgICAgICBbNDMuNjc5NTU3MSwgLTc5LjM1MjE4OF0sCiAgICAgICAgICAgICAgICB7ImJ1YmJsaW5nTW91c2VFdmVudHMiOiB0cnVlLCAiY29sb3IiOiAiYmx1ZSIsICJkYXNoQXJyYXkiOiBudWxsLCAiZGFzaE9mZnNldCI6IG51bGwsICJmaWxsIjogdHJ1ZSwgImZpbGxDb2xvciI6ICIjMzE4NmNjIiwgImZpbGxPcGFjaXR5IjogMC43LCAiZmlsbFJ1bGUiOiAiZXZlbm9kZCIsICJsaW5lQ2FwIjogInJvdW5kIiwgImxpbmVKb2luIjogInJvdW5kIiwgIm9wYWNpdHkiOiAxLjAsICJyYWRpdXMiOiA1LCAic3Ryb2tlIjogdHJ1ZSwgIndlaWdodCI6IDN9CiAgICAgICAgICAgICkuYWRkVG8obWFwXzFlYmRhNjMzMjJmODRlMmZhMjI1YzgwYmM3NWM5NGFkKTsKICAgICAgICAKICAgIAogICAgICAgIHZhciBwb3B1cF83Yjg5NGU2ZmFlZTA0Y2RmYjBhN2E0YTc3MWYzN2VkMiA9IEwucG9wdXAoeyJtYXhXaWR0aCI6ICIxMDAlIn0pOwoKICAgICAgICAKICAgICAgICAgICAgdmFyIGh0bWxfNjA2OTBlYWE4ODc4NGIxNzhkNjJjMzJhOTE1NDIzNzUgPSAkKGA8ZGl2IGlkPSJodG1sXzYwNjkwZWFhODg3ODRiMTc4ZDYyYzMyYTkxNTQyMzc1IiBzdHlsZT0id2lkdGg6IDEwMC4wJTsgaGVpZ2h0OiAxMDAuMCU7Ij5UaGUgRGFuZm9ydGggV2VzdCwgUml2ZXJkYWxlLCBFYXN0IFRvcm9udG88L2Rpdj5gKVswXTsKICAgICAgICAgICAgcG9wdXBfN2I4OTRlNmZhZWUwNGNkZmIwYTdhNGE3NzFmMzdlZDIuc2V0Q29udGVudChodG1sXzYwNjkwZWFhODg3ODRiMTc4ZDYyYzMyYTkxNTQyMzc1KTsKICAgICAgICAKCiAgICAgICAgY2lyY2xlX21hcmtlcl9hYWI0MzdiYzIzMjY0MzA3YmVkYTE5NTNmN2MyMDNhZi5iaW5kUG9wdXAocG9wdXBfN2I4OTRlNmZhZWUwNGNkZmIwYTdhNGE3NzFmMzdlZDIpCiAgICAgICAgOwoKICAgICAgICAKICAgIAogICAgCiAgICAgICAgICAgIHZhciBjaXJjbGVfbWFya2VyXzRlNDE3NTcyY2VmMjRiNmJiODQ2N2JmMGRkMTAwNDUwID0gTC5jaXJjbGVNYXJrZXIoCiAgICAgICAgICAgICAgICBbNDMuNjQ3MTc2OCwgLTc5LjM4MTU3NjQwMDAwMDAxXSwKICAgICAgICAgICAgICAgIHsiYnViYmxpbmdNb3VzZUV2ZW50cyI6IHRydWUsICJjb2xvciI6ICJibHVlIiwgImRhc2hBcnJheSI6IG51bGwsICJkYXNoT2Zmc2V0IjogbnVsbCwgImZpbGwiOiB0cnVlLCAiZmlsbENvbG9yIjogIiMzMTg2Y2MiLCAiZmlsbE9wYWNpdHkiOiAwLjcsICJmaWxsUnVsZSI6ICJldmVub2RkIiwgImxpbmVDYXAiOiAicm91bmQiLCAibGluZUpvaW4iOiAicm91bmQiLCAib3BhY2l0eSI6IDEuMCwgInJhZGl1cyI6IDUsICJzdHJva2UiOiB0cnVlLCAid2VpZ2h0IjogM30KICAgICAgICAgICAgKS5hZGRUbyhtYXBfMWViZGE2MzMyMmY4NGUyZmEyMjVjODBiYzc1Yzk0YWQpOwogICAgICAgIAogICAgCiAgICAgICAgdmFyIHBvcHVwXzI3Mjc4OTM1NDg5NzQ1ZmU5Y2M3ZDBhNjExYmI4OWQ2ID0gTC5wb3B1cCh7Im1heFdpZHRoIjogIjEwMCUifSk7CgogICAgICAgIAogICAgICAgICAgICB2YXIgaHRtbF8xNDJmMWNiNTJmOTE0NzRkYTUyNWY1MTIxNTE2ZGRjNiA9ICQoYDxkaXYgaWQ9Imh0bWxfMTQyZjFjYjUyZjkxNDc0ZGE1MjVmNTEyMTUxNmRkYzYiIHN0eWxlPSJ3aWR0aDogMTAwLjAlOyBoZWlnaHQ6IDEwMC4wJTsiPlRvcm9udG8gRG9taW5pb24gQ2VudHJlLCBEZXNpZ24gRXhjaGFuZ2UsIERvd250b3duIFRvcm9udG88L2Rpdj5gKVswXTsKICAgICAgICAgICAgcG9wdXBfMjcyNzg5MzU0ODk3NDVmZTljYzdkMGE2MTFiYjg5ZDYuc2V0Q29udGVudChodG1sXzE0MmYxY2I1MmY5MTQ3NGRhNTI1ZjUxMjE1MTZkZGM2KTsKICAgICAgICAKCiAgICAgICAgY2lyY2xlX21hcmtlcl80ZTQxNzU3MmNlZjI0YjZiYjg0NjdiZjBkZDEwMDQ1MC5iaW5kUG9wdXAocG9wdXBfMjcyNzg5MzU0ODk3NDVmZTljYzdkMGE2MTFiYjg5ZDYpCiAgICAgICAgOwoKICAgICAgICAKICAgIAogICAgCiAgICAgICAgICAgIHZhciBjaXJjbGVfbWFya2VyX2VkODU2NWQ5N2FmZjRkMzE4YjY0MzcxZTRiMGIwMTM4ID0gTC5jaXJjbGVNYXJrZXIoCiAgICAgICAgICAgICAgICBbNDMuNjM2ODQ3MiwgLTc5LjQyODE5MTQwMDAwMDAyXSwKICAgICAgICAgICAgICAgIHsiYnViYmxpbmdNb3VzZUV2ZW50cyI6IHRydWUsICJjb2xvciI6ICJibHVlIiwgImRhc2hBcnJheSI6IG51bGwsICJkYXNoT2Zmc2V0IjogbnVsbCwgImZpbGwiOiB0cnVlLCAiZmlsbENvbG9yIjogIiMzMTg2Y2MiLCAiZmlsbE9wYWNpdHkiOiAwLjcsICJmaWxsUnVsZSI6ICJldmVub2RkIiwgImxpbmVDYXAiOiAicm91bmQiLCAibGluZUpvaW4iOiAicm91bmQiLCAib3BhY2l0eSI6IDEuMCwgInJhZGl1cyI6IDUsICJzdHJva2UiOiB0cnVlLCAid2VpZ2h0IjogM30KICAgICAgICAgICAgKS5hZGRUbyhtYXBfMWViZGE2MzMyMmY4NGUyZmEyMjVjODBiYzc1Yzk0YWQpOwogICAgICAgIAogICAgCiAgICAgICAgdmFyIHBvcHVwXzRiOWVkNzU3YjVkMDQ4ZjRiZTUxYTIwZDQ0MzYzMzYxID0gTC5wb3B1cCh7Im1heFdpZHRoIjogIjEwMCUifSk7CgogICAgICAgIAogICAgICAgICAgICB2YXIgaHRtbF8yNTY0YjM3NDQ1MTI0MDgwOTk2ZmM3OTBlNTk1MTIwYyA9ICQoYDxkaXYgaWQ9Imh0bWxfMjU2NGIzNzQ0NTEyNDA4MDk5NmZjNzkwZTU5NTEyMGMiIHN0eWxlPSJ3aWR0aDogMTAwLjAlOyBoZWlnaHQ6IDEwMC4wJTsiPkJyb2NrdG9uLCBQYXJrZGFsZSBWaWxsYWdlLCBFeGhpYml0aW9uIFBsYWNlLCBXZXN0IFRvcm9udG88L2Rpdj5gKVswXTsKICAgICAgICAgICAgcG9wdXBfNGI5ZWQ3NTdiNWQwNDhmNGJlNTFhMjBkNDQzNjMzNjEuc2V0Q29udGVudChodG1sXzI1NjRiMzc0NDUxMjQwODA5OTZmYzc5MGU1OTUxMjBjKTsKICAgICAgICAKCiAgICAgICAgY2lyY2xlX21hcmtlcl9lZDg1NjVkOTdhZmY0ZDMxOGI2NDM3MWU0YjBiMDEzOC5iaW5kUG9wdXAocG9wdXBfNGI5ZWQ3NTdiNWQwNDhmNGJlNTFhMjBkNDQzNjMzNjEpCiAgICAgICAgOwoKICAgICAgICAKICAgIAogICAgCiAgICAgICAgICAgIHZhciBjaXJjbGVfbWFya2VyXzRlZDM5ODdlNTFhYzRmOWQ4MmUzYzRlMGNiNjQ1OWUxID0gTC5jaXJjbGVNYXJrZXIoCiAgICAgICAgICAgICAgICBbNDMuNjY4OTk4NSwgLTc5LjMxNTU3MTU5OTk5OTk4XSwKICAgICAgICAgICAgICAgIHsiYnViYmxpbmdNb3VzZUV2ZW50cyI6IHRydWUsICJjb2xvciI6ICJibHVlIiwgImRhc2hBcnJheSI6IG51bGwsICJkYXNoT2Zmc2V0IjogbnVsbCwgImZpbGwiOiB0cnVlLCAiZmlsbENvbG9yIjogIiMzMTg2Y2MiLCAiZmlsbE9wYWNpdHkiOiAwLjcsICJmaWxsUnVsZSI6ICJldmVub2RkIiwgImxpbmVDYXAiOiAicm91bmQiLCAibGluZUpvaW4iOiAicm91bmQiLCAib3BhY2l0eSI6IDEuMCwgInJhZGl1cyI6IDUsICJzdHJva2UiOiB0cnVlLCAid2VpZ2h0IjogM30KICAgICAgICAgICAgKS5hZGRUbyhtYXBfMWViZGE2MzMyMmY4NGUyZmEyMjVjODBiYzc1Yzk0YWQpOwogICAgICAgIAogICAgCiAgICAgICAgdmFyIHBvcHVwXzYwNmE5MzRhNmMwZDQ5YmQ4MWNjZjJmNzBjZTgwMDM0ID0gTC5wb3B1cCh7Im1heFdpZHRoIjogIjEwMCUifSk7CgogICAgICAgIAogICAgICAgICAgICB2YXIgaHRtbF85NThjODI1NDJkZjk0MjUyOWQ0MjlhZGQwYzI4MzBmMCA9ICQoYDxkaXYgaWQ9Imh0bWxfOTU4YzgyNTQyZGY5NDI1MjlkNDI5YWRkMGMyODMwZjAiIHN0eWxlPSJ3aWR0aDogMTAwLjAlOyBoZWlnaHQ6IDEwMC4wJTsiPkluZGlhIEJhemFhciwgVGhlIEJlYWNoZXMgV2VzdCwgRWFzdCBUb3JvbnRvPC9kaXY+YClbMF07CiAgICAgICAgICAgIHBvcHVwXzYwNmE5MzRhNmMwZDQ5YmQ4MWNjZjJmNzBjZTgwMDM0LnNldENvbnRlbnQoaHRtbF85NThjODI1NDJkZjk0MjUyOWQ0MjlhZGQwYzI4MzBmMCk7CiAgICAgICAgCgogICAgICAgIGNpcmNsZV9tYXJrZXJfNGVkMzk4N2U1MWFjNGY5ZDgyZTNjNGUwY2I2NDU5ZTEuYmluZFBvcHVwKHBvcHVwXzYwNmE5MzRhNmMwZDQ5YmQ4MWNjZjJmNzBjZTgwMDM0KQogICAgICAgIDsKCiAgICAgICAgCiAgICAKICAgIAogICAgICAgICAgICB2YXIgY2lyY2xlX21hcmtlcl81OGM5OTE4NjJmZmM0OTc1OGRlNmZiNGZhOTlkMGQyYyA9IEwuY2lyY2xlTWFya2VyKAogICAgICAgICAgICAgICAgWzQzLjY0ODE5ODUsIC03OS4zNzk4MTY5MDAwMDAwMl0sCiAgICAgICAgICAgICAgICB7ImJ1YmJsaW5nTW91c2VFdmVudHMiOiB0cnVlLCAiY29sb3IiOiAiYmx1ZSIsICJkYXNoQXJyYXkiOiBudWxsLCAiZGFzaE9mZnNldCI6IG51bGwsICJmaWxsIjogdHJ1ZSwgImZpbGxDb2xvciI6ICIjMzE4NmNjIiwgImZpbGxPcGFjaXR5IjogMC43LCAiZmlsbFJ1bGUiOiAiZXZlbm9kZCIsICJsaW5lQ2FwIjogInJvdW5kIiwgImxpbmVKb2luIjogInJvdW5kIiwgIm9wYWNpdHkiOiAxLjAsICJyYWRpdXMiOiA1LCAic3Ryb2tlIjogdHJ1ZSwgIndlaWdodCI6IDN9CiAgICAgICAgICAgICkuYWRkVG8obWFwXzFlYmRhNjMzMjJmODRlMmZhMjI1YzgwYmM3NWM5NGFkKTsKICAgICAgICAKICAgIAogICAgICAgIHZhciBwb3B1cF9hMmI2N2I2MTJmMTQ0NjIzOGE2YmMwYTMzNDczNTcxMiA9IEwucG9wdXAoeyJtYXhXaWR0aCI6ICIxMDAlIn0pOwoKICAgICAgICAKICAgICAgICAgICAgdmFyIGh0bWxfYzUwNDc3Njk0MmNhNDIwNWFiM2Q4MjdhMWY1NjVkZjcgPSAkKGA8ZGl2IGlkPSJodG1sX2M1MDQ3NzY5NDJjYTQyMDVhYjNkODI3YTFmNTY1ZGY3IiBzdHlsZT0id2lkdGg6IDEwMC4wJTsgaGVpZ2h0OiAxMDAuMCU7Ij5Db21tZXJjZSBDb3VydCwgVmljdG9yaWEgSG90ZWwsIERvd250b3duIFRvcm9udG88L2Rpdj5gKVswXTsKICAgICAgICAgICAgcG9wdXBfYTJiNjdiNjEyZjE0NDYyMzhhNmJjMGEzMzQ3MzU3MTIuc2V0Q29udGVudChodG1sX2M1MDQ3NzY5NDJjYTQyMDVhYjNkODI3YTFmNTY1ZGY3KTsKICAgICAgICAKCiAgICAgICAgY2lyY2xlX21hcmtlcl81OGM5OTE4NjJmZmM0OTc1OGRlNmZiNGZhOTlkMGQyYy5iaW5kUG9wdXAocG9wdXBfYTJiNjdiNjEyZjE0NDYyMzhhNmJjMGEzMzQ3MzU3MTIpCiAgICAgICAgOwoKICAgICAgICAKICAgIAogICAgCiAgICAgICAgICAgIHZhciBjaXJjbGVfbWFya2VyX2I0NTJhYTdhN2JjODQ4MzNhZGZhN2JmM2QwOThiZDJhID0gTC5jaXJjbGVNYXJrZXIoCiAgICAgICAgICAgICAgICBbNDMuNjU5NTI1NSwgLTc5LjM0MDkyM10sCiAgICAgICAgICAgICAgICB7ImJ1YmJsaW5nTW91c2VFdmVudHMiOiB0cnVlLCAiY29sb3IiOiAiYmx1ZSIsICJkYXNoQXJyYXkiOiBudWxsLCAiZGFzaE9mZnNldCI6IG51bGwsICJmaWxsIjogdHJ1ZSwgImZpbGxDb2xvciI6ICIjMzE4NmNjIiwgImZpbGxPcGFjaXR5IjogMC43LCAiZmlsbFJ1bGUiOiAiZXZlbm9kZCIsICJsaW5lQ2FwIjogInJvdW5kIiwgImxpbmVKb2luIjogInJvdW5kIiwgIm9wYWNpdHkiOiAxLjAsICJyYWRpdXMiOiA1LCAic3Ryb2tlIjogdHJ1ZSwgIndlaWdodCI6IDN9CiAgICAgICAgICAgICkuYWRkVG8obWFwXzFlYmRhNjMzMjJmODRlMmZhMjI1YzgwYmM3NWM5NGFkKTsKICAgICAgICAKICAgIAogICAgICAgIHZhciBwb3B1cF81MmY2MDFjYTRiYTA0MmVkYjcyMWViYTZiOWJmYWFjYSA9IEwucG9wdXAoeyJtYXhXaWR0aCI6ICIxMDAlIn0pOwoKICAgICAgICAKICAgICAgICAgICAgdmFyIGh0bWxfODkyYzUxZTE3YzU4NDBiYjkwZTczMjY0NDgwZDE0YjQgPSAkKGA8ZGl2IGlkPSJodG1sXzg5MmM1MWUxN2M1ODQwYmI5MGU3MzI2NDQ4MGQxNGI0IiBzdHlsZT0id2lkdGg6IDEwMC4wJTsgaGVpZ2h0OiAxMDAuMCU7Ij5TdHVkaW8gRGlzdHJpY3QsIEVhc3QgVG9yb250bzwvZGl2PmApWzBdOwogICAgICAgICAgICBwb3B1cF81MmY2MDFjYTRiYTA0MmVkYjcyMWViYTZiOWJmYWFjYS5zZXRDb250ZW50KGh0bWxfODkyYzUxZTE3YzU4NDBiYjkwZTczMjY0NDgwZDE0YjQpOwogICAgICAgIAoKICAgICAgICBjaXJjbGVfbWFya2VyX2I0NTJhYTdhN2JjODQ4MzNhZGZhN2JmM2QwOThiZDJhLmJpbmRQb3B1cChwb3B1cF81MmY2MDFjYTRiYTA0MmVkYjcyMWViYTZiOWJmYWFjYSkKICAgICAgICA7CgogICAgICAgIAogICAgCiAgICAKICAgICAgICAgICAgdmFyIGNpcmNsZV9tYXJrZXJfMjQyYjA3M2RiYmMzNDczYWEwODA2ZGQ3YzFkYmRlMTUgPSBMLmNpcmNsZU1hcmtlcigKICAgICAgICAgICAgICAgIFs0My43MjgwMjA1LCAtNzkuMzg4NzkwMV0sCiAgICAgICAgICAgICAgICB7ImJ1YmJsaW5nTW91c2VFdmVudHMiOiB0cnVlLCAiY29sb3IiOiAiYmx1ZSIsICJkYXNoQXJyYXkiOiBudWxsLCAiZGFzaE9mZnNldCI6IG51bGwsICJmaWxsIjogdHJ1ZSwgImZpbGxDb2xvciI6ICIjMzE4NmNjIiwgImZpbGxPcGFjaXR5IjogMC43LCAiZmlsbFJ1bGUiOiAiZXZlbm9kZCIsICJsaW5lQ2FwIjogInJvdW5kIiwgImxpbmVKb2luIjogInJvdW5kIiwgIm9wYWNpdHkiOiAxLjAsICJyYWRpdXMiOiA1LCAic3Ryb2tlIjogdHJ1ZSwgIndlaWdodCI6IDN9CiAgICAgICAgICAgICkuYWRkVG8obWFwXzFlYmRhNjMzMjJmODRlMmZhMjI1YzgwYmM3NWM5NGFkKTsKICAgICAgICAKICAgIAogICAgICAgIHZhciBwb3B1cF81MTQ4OTgyYWFiMmQ0ODU1OTVkOGRmNGQ4YmUyNGE4ZCA9IEwucG9wdXAoeyJtYXhXaWR0aCI6ICIxMDAlIn0pOwoKICAgICAgICAKICAgICAgICAgICAgdmFyIGh0bWxfZWNkMTRkYjRhODAwNDIzOTgyZjhiZTZjODU0ZmY3NGUgPSAkKGA8ZGl2IGlkPSJodG1sX2VjZDE0ZGI0YTgwMDQyMzk4MmY4YmU2Yzg1NGZmNzRlIiBzdHlsZT0id2lkdGg6IDEwMC4wJTsgaGVpZ2h0OiAxMDAuMCU7Ij5MYXdyZW5jZSBQYXJrLCBDZW50cmFsIFRvcm9udG88L2Rpdj5gKVswXTsKICAgICAgICAgICAgcG9wdXBfNTE0ODk4MmFhYjJkNDg1NTk1ZDhkZjRkOGJlMjRhOGQuc2V0Q29udGVudChodG1sX2VjZDE0ZGI0YTgwMDQyMzk4MmY4YmU2Yzg1NGZmNzRlKTsKICAgICAgICAKCiAgICAgICAgY2lyY2xlX21hcmtlcl8yNDJiMDczZGJiYzM0NzNhYTA4MDZkZDdjMWRiZGUxNS5iaW5kUG9wdXAocG9wdXBfNTE0ODk4MmFhYjJkNDg1NTk1ZDhkZjRkOGJlMjRhOGQpCiAgICAgICAgOwoKICAgICAgICAKICAgIAogICAgCiAgICAgICAgICAgIHZhciBjaXJjbGVfbWFya2VyXzAxOWU2MjQ1MjcwOTRiMTZhM2MxMjFlZjUzMDY3ODdjID0gTC5jaXJjbGVNYXJrZXIoCiAgICAgICAgICAgICAgICBbNDMuNzExNjk0OCwgLTc5LjQxNjkzNTU5OTk5OTk5XSwKICAgICAgICAgICAgICAgIHsiYnViYmxpbmdNb3VzZUV2ZW50cyI6IHRydWUsICJjb2xvciI6ICJibHVlIiwgImRhc2hBcnJheSI6IG51bGwsICJkYXNoT2Zmc2V0IjogbnVsbCwgImZpbGwiOiB0cnVlLCAiZmlsbENvbG9yIjogIiMzMTg2Y2MiLCAiZmlsbE9wYWNpdHkiOiAwLjcsICJmaWxsUnVsZSI6ICJldmVub2RkIiwgImxpbmVDYXAiOiAicm91bmQiLCAibGluZUpvaW4iOiAicm91bmQiLCAib3BhY2l0eSI6IDEuMCwgInJhZGl1cyI6IDUsICJzdHJva2UiOiB0cnVlLCAid2VpZ2h0IjogM30KICAgICAgICAgICAgKS5hZGRUbyhtYXBfMWViZGE2MzMyMmY4NGUyZmEyMjVjODBiYzc1Yzk0YWQpOwogICAgICAgIAogICAgCiAgICAgICAgdmFyIHBvcHVwX2YxY2VlOTE2YWQyODRhOGQ4N2UyNDQ3ZTkzOTg4NDA3ID0gTC5wb3B1cCh7Im1heFdpZHRoIjogIjEwMCUifSk7CgogICAgICAgIAogICAgICAgICAgICB2YXIgaHRtbF8yYTFmODYwMTEzMjI0NzY0ODM3NzViMDBmZGI5YWRhYSA9ICQoYDxkaXYgaWQ9Imh0bWxfMmExZjg2MDExMzIyNDc2NDgzNzc1YjAwZmRiOWFkYWEiIHN0eWxlPSJ3aWR0aDogMTAwLjAlOyBoZWlnaHQ6IDEwMC4wJTsiPlJvc2VsYXduLCBDZW50cmFsIFRvcm9udG88L2Rpdj5gKVswXTsKICAgICAgICAgICAgcG9wdXBfZjFjZWU5MTZhZDI4NGE4ZDg3ZTI0NDdlOTM5ODg0MDcuc2V0Q29udGVudChodG1sXzJhMWY4NjAxMTMyMjQ3NjQ4Mzc3NWIwMGZkYjlhZGFhKTsKICAgICAgICAKCiAgICAgICAgY2lyY2xlX21hcmtlcl8wMTllNjI0NTI3MDk0YjE2YTNjMTIxZWY1MzA2Nzg3Yy5iaW5kUG9wdXAocG9wdXBfZjFjZWU5MTZhZDI4NGE4ZDg3ZTI0NDdlOTM5ODg0MDcpCiAgICAgICAgOwoKICAgICAgICAKICAgIAogICAgCiAgICAgICAgICAgIHZhciBjaXJjbGVfbWFya2VyXzM3ZDY3NjE3MzBhZDRhMjlhOWEzNjJmMTM5OGY5MDU2ID0gTC5jaXJjbGVNYXJrZXIoCiAgICAgICAgICAgICAgICBbNDMuNzEyNzUxMSwgLTc5LjM5MDE5NzVdLAogICAgICAgICAgICAgICAgeyJidWJibGluZ01vdXNlRXZlbnRzIjogdHJ1ZSwgImNvbG9yIjogImJsdWUiLCAiZGFzaEFycmF5IjogbnVsbCwgImRhc2hPZmZzZXQiOiBudWxsLCAiZmlsbCI6IHRydWUsICJmaWxsQ29sb3IiOiAiIzMxODZjYyIsICJmaWxsT3BhY2l0eSI6IDAuNywgImZpbGxSdWxlIjogImV2ZW5vZGQiLCAibGluZUNhcCI6ICJyb3VuZCIsICJsaW5lSm9pbiI6ICJyb3VuZCIsICJvcGFjaXR5IjogMS4wLCAicmFkaXVzIjogNSwgInN0cm9rZSI6IHRydWUsICJ3ZWlnaHQiOiAzfQogICAgICAgICAgICApLmFkZFRvKG1hcF8xZWJkYTYzMzIyZjg0ZTJmYTIyNWM4MGJjNzVjOTRhZCk7CiAgICAgICAgCiAgICAKICAgICAgICB2YXIgcG9wdXBfOTMyZTQwZjdhYjA5NGU5ZDhiOWI4NjU0ZTFjNzkwODIgPSBMLnBvcHVwKHsibWF4V2lkdGgiOiAiMTAwJSJ9KTsKCiAgICAgICAgCiAgICAgICAgICAgIHZhciBodG1sXzg2MzBjOTk4Y2UyYTQ5YmFiN2JlNTZkZDkzODRiZjgxID0gJChgPGRpdiBpZD0iaHRtbF84NjMwYzk5OGNlMmE0OWJhYjdiZTU2ZGQ5Mzg0YmY4MSIgc3R5bGU9IndpZHRoOiAxMDAuMCU7IGhlaWdodDogMTAwLjAlOyI+RGF2aXN2aWxsZSBOb3J0aCwgQ2VudHJhbCBUb3JvbnRvPC9kaXY+YClbMF07CiAgICAgICAgICAgIHBvcHVwXzkzMmU0MGY3YWIwOTRlOWQ4YjliODY1NGUxYzc5MDgyLnNldENvbnRlbnQoaHRtbF84NjMwYzk5OGNlMmE0OWJhYjdiZTU2ZGQ5Mzg0YmY4MSk7CiAgICAgICAgCgogICAgICAgIGNpcmNsZV9tYXJrZXJfMzdkNjc2MTczMGFkNGEyOWE5YTM2MmYxMzk4ZjkwNTYuYmluZFBvcHVwKHBvcHVwXzkzMmU0MGY3YWIwOTRlOWQ4YjliODY1NGUxYzc5MDgyKQogICAgICAgIDsKCiAgICAgICAgCiAgICAKICAgIAogICAgICAgICAgICB2YXIgY2lyY2xlX21hcmtlcl9lMTAzODUwMzcwZDc0OGIwOTBjZGY5NWMxNGM5NDhjYSA9IEwuY2lyY2xlTWFya2VyKAogICAgICAgICAgICAgICAgWzQzLjY5Njk0NzYsIC03OS40MTEzMDcyMDAwMDAwMl0sCiAgICAgICAgICAgICAgICB7ImJ1YmJsaW5nTW91c2VFdmVudHMiOiB0cnVlLCAiY29sb3IiOiAiYmx1ZSIsICJkYXNoQXJyYXkiOiBudWxsLCAiZGFzaE9mZnNldCI6IG51bGwsICJmaWxsIjogdHJ1ZSwgImZpbGxDb2xvciI6ICIjMzE4NmNjIiwgImZpbGxPcGFjaXR5IjogMC43LCAiZmlsbFJ1bGUiOiAiZXZlbm9kZCIsICJsaW5lQ2FwIjogInJvdW5kIiwgImxpbmVKb2luIjogInJvdW5kIiwgIm9wYWNpdHkiOiAxLjAsICJyYWRpdXMiOiA1LCAic3Ryb2tlIjogdHJ1ZSwgIndlaWdodCI6IDN9CiAgICAgICAgICAgICkuYWRkVG8obWFwXzFlYmRhNjMzMjJmODRlMmZhMjI1YzgwYmM3NWM5NGFkKTsKICAgICAgICAKICAgIAogICAgICAgIHZhciBwb3B1cF83NTM0MTBkMGZlNzk0ZmM0OTZjMTI3ZDI2NzAzZDczNCA9IEwucG9wdXAoeyJtYXhXaWR0aCI6ICIxMDAlIn0pOwoKICAgICAgICAKICAgICAgICAgICAgdmFyIGh0bWxfYzk5ZjI3MGNjNWNkNGVhNjhhZWE0ZWU1YjlhMjExMWYgPSAkKGA8ZGl2IGlkPSJodG1sX2M5OWYyNzBjYzVjZDRlYTY4YWVhNGVlNWI5YTIxMTFmIiBzdHlsZT0id2lkdGg6IDEwMC4wJTsgaGVpZ2h0OiAxMDAuMCU7Ij5Gb3Jlc3QgSGlsbCBOb3J0aCAmYW1wOyBXZXN0LCBGb3Jlc3QgSGlsbCBSb2FkIFBhcmssIENlbnRyYWwgVG9yb250bzwvZGl2PmApWzBdOwogICAgICAgICAgICBwb3B1cF83NTM0MTBkMGZlNzk0ZmM0OTZjMTI3ZDI2NzAzZDczNC5zZXRDb250ZW50KGh0bWxfYzk5ZjI3MGNjNWNkNGVhNjhhZWE0ZWU1YjlhMjExMWYpOwogICAgICAgIAoKICAgICAgICBjaXJjbGVfbWFya2VyX2UxMDM4NTAzNzBkNzQ4YjA5MGNkZjk1YzE0Yzk0OGNhLmJpbmRQb3B1cChwb3B1cF83NTM0MTBkMGZlNzk0ZmM0OTZjMTI3ZDI2NzAzZDczNCkKICAgICAgICA7CgogICAgICAgIAogICAgCiAgICAKICAgICAgICAgICAgdmFyIGNpcmNsZV9tYXJrZXJfN2QxMWFiYjU5NmM5NGZhMTkzODIyZjg3YzFmYTNkOTYgPSBMLmNpcmNsZU1hcmtlcigKICAgICAgICAgICAgICAgIFs0My42NjE2MDgzLCAtNzkuNDY0NzYzMjk5OTk5OTldLAogICAgICAgICAgICAgICAgeyJidWJibGluZ01vdXNlRXZlbnRzIjogdHJ1ZSwgImNvbG9yIjogImJsdWUiLCAiZGFzaEFycmF5IjogbnVsbCwgImRhc2hPZmZzZXQiOiBudWxsLCAiZmlsbCI6IHRydWUsICJmaWxsQ29sb3IiOiAiIzMxODZjYyIsICJmaWxsT3BhY2l0eSI6IDAuNywgImZpbGxSdWxlIjogImV2ZW5vZGQiLCAibGluZUNhcCI6ICJyb3VuZCIsICJsaW5lSm9pbiI6ICJyb3VuZCIsICJvcGFjaXR5IjogMS4wLCAicmFkaXVzIjogNSwgInN0cm9rZSI6IHRydWUsICJ3ZWlnaHQiOiAzfQogICAgICAgICAgICApLmFkZFRvKG1hcF8xZWJkYTYzMzIyZjg0ZTJmYTIyNWM4MGJjNzVjOTRhZCk7CiAgICAgICAgCiAgICAKICAgICAgICB2YXIgcG9wdXBfZDU2OTRlZWJhZWRkNGI0NzliZjNjNzFjY2RkZGIyNTQgPSBMLnBvcHVwKHsibWF4V2lkdGgiOiAiMTAwJSJ9KTsKCiAgICAgICAgCiAgICAgICAgICAgIHZhciBodG1sXzI2YjliMmZjNzlmMjRkNGJiNjAwZjkxZTdmMGFhZjgxID0gJChgPGRpdiBpZD0iaHRtbF8yNmI5YjJmYzc5ZjI0ZDRiYjYwMGY5MWU3ZjBhYWY4MSIgc3R5bGU9IndpZHRoOiAxMDAuMCU7IGhlaWdodDogMTAwLjAlOyI+SGlnaCBQYXJrLCBUaGUgSnVuY3Rpb24gU291dGgsIFdlc3QgVG9yb250bzwvZGl2PmApWzBdOwogICAgICAgICAgICBwb3B1cF9kNTY5NGVlYmFlZGQ0YjQ3OWJmM2M3MWNjZGRkYjI1NC5zZXRDb250ZW50KGh0bWxfMjZiOWIyZmM3OWYyNGQ0YmI2MDBmOTFlN2YwYWFmODEpOwogICAgICAgIAoKICAgICAgICBjaXJjbGVfbWFya2VyXzdkMTFhYmI1OTZjOTRmYTE5MzgyMmY4N2MxZmEzZDk2LmJpbmRQb3B1cChwb3B1cF9kNTY5NGVlYmFlZGQ0YjQ3OWJmM2M3MWNjZGRkYjI1NCkKICAgICAgICA7CgogICAgICAgIAogICAgCiAgICAKICAgICAgICAgICAgdmFyIGNpcmNsZV9tYXJrZXJfZmVlYmQwNmY4MzA4NGRiMjhlYmUzMmYyZTZkNGNjYjYgPSBMLmNpcmNsZU1hcmtlcigKICAgICAgICAgICAgICAgIFs0My43MTUzODM0LCAtNzkuNDA1Njc4NDAwMDAwMDFdLAogICAgICAgICAgICAgICAgeyJidWJibGluZ01vdXNlRXZlbnRzIjogdHJ1ZSwgImNvbG9yIjogImJsdWUiLCAiZGFzaEFycmF5IjogbnVsbCwgImRhc2hPZmZzZXQiOiBudWxsLCAiZmlsbCI6IHRydWUsICJmaWxsQ29sb3IiOiAiIzMxODZjYyIsICJmaWxsT3BhY2l0eSI6IDAuNywgImZpbGxSdWxlIjogImV2ZW5vZGQiLCAibGluZUNhcCI6ICJyb3VuZCIsICJsaW5lSm9pbiI6ICJyb3VuZCIsICJvcGFjaXR5IjogMS4wLCAicmFkaXVzIjogNSwgInN0cm9rZSI6IHRydWUsICJ3ZWlnaHQiOiAzfQogICAgICAgICAgICApLmFkZFRvKG1hcF8xZWJkYTYzMzIyZjg0ZTJmYTIyNWM4MGJjNzVjOTRhZCk7CiAgICAgICAgCiAgICAKICAgICAgICB2YXIgcG9wdXBfMzE5MTJlZWMyYWY1NDI0Yjg5Y2RkYjBmZGJkMGMyNWEgPSBMLnBvcHVwKHsibWF4V2lkdGgiOiAiMTAwJSJ9KTsKCiAgICAgICAgCiAgICAgICAgICAgIHZhciBodG1sX2RhZWM1NDczYTc3ZTQxMzE4MzU2YzhiYjA2OTI5OWViID0gJChgPGRpdiBpZD0iaHRtbF9kYWVjNTQ3M2E3N2U0MTMxODM1NmM4YmIwNjkyOTllYiIgc3R5bGU9IndpZHRoOiAxMDAuMCU7IGhlaWdodDogMTAwLjAlOyI+Tm9ydGggVG9yb250byBXZXN0LCBMYXdyZW5jZSBQYXJrLCBDZW50cmFsIFRvcm9udG88L2Rpdj5gKVswXTsKICAgICAgICAgICAgcG9wdXBfMzE5MTJlZWMyYWY1NDI0Yjg5Y2RkYjBmZGJkMGMyNWEuc2V0Q29udGVudChodG1sX2RhZWM1NDczYTc3ZTQxMzE4MzU2YzhiYjA2OTI5OWViKTsKICAgICAgICAKCiAgICAgICAgY2lyY2xlX21hcmtlcl9mZWViZDA2ZjgzMDg0ZGIyOGViZTMyZjJlNmQ0Y2NiNi5iaW5kUG9wdXAocG9wdXBfMzE5MTJlZWMyYWY1NDI0Yjg5Y2RkYjBmZGJkMGMyNWEpCiAgICAgICAgOwoKICAgICAgICAKICAgIAogICAgCiAgICAgICAgICAgIHZhciBjaXJjbGVfbWFya2VyXzc1YTczNTI0MzIyNTRmOWU5YmEyZTBmY2NmNzAyNDJjID0gTC5jaXJjbGVNYXJrZXIoCiAgICAgICAgICAgICAgICBbNDMuNjcyNzA5NywgLTc5LjQwNTY3ODQwMDAwMDAxXSwKICAgICAgICAgICAgICAgIHsiYnViYmxpbmdNb3VzZUV2ZW50cyI6IHRydWUsICJjb2xvciI6ICJibHVlIiwgImRhc2hBcnJheSI6IG51bGwsICJkYXNoT2Zmc2V0IjogbnVsbCwgImZpbGwiOiB0cnVlLCAiZmlsbENvbG9yIjogIiMzMTg2Y2MiLCAiZmlsbE9wYWNpdHkiOiAwLjcsICJmaWxsUnVsZSI6ICJldmVub2RkIiwgImxpbmVDYXAiOiAicm91bmQiLCAibGluZUpvaW4iOiAicm91bmQiLCAib3BhY2l0eSI6IDEuMCwgInJhZGl1cyI6IDUsICJzdHJva2UiOiB0cnVlLCAid2VpZ2h0IjogM30KICAgICAgICAgICAgKS5hZGRUbyhtYXBfMWViZGE2MzMyMmY4NGUyZmEyMjVjODBiYzc1Yzk0YWQpOwogICAgICAgIAogICAgCiAgICAgICAgdmFyIHBvcHVwX2VlY2YxNzM5MzAwNjQ4ZGY4NWI2MWEyZDhmM2FmZDFkID0gTC5wb3B1cCh7Im1heFdpZHRoIjogIjEwMCUifSk7CgogICAgICAgIAogICAgICAgICAgICB2YXIgaHRtbF9mOTAzMDhjNjgxMmY0YmI3YWUzODQ0ZmU0YzVmMTM1MCA9ICQoYDxkaXYgaWQ9Imh0bWxfZjkwMzA4YzY4MTJmNGJiN2FlMzg0NGZlNGM1ZjEzNTAiIHN0eWxlPSJ3aWR0aDogMTAwLjAlOyBoZWlnaHQ6IDEwMC4wJTsiPlRoZSBBbm5leCwgTm9ydGggTWlkdG93biwgWW9ya3ZpbGxlLCBDZW50cmFsIFRvcm9udG88L2Rpdj5gKVswXTsKICAgICAgICAgICAgcG9wdXBfZWVjZjE3MzkzMDA2NDhkZjg1YjYxYTJkOGYzYWZkMWQuc2V0Q29udGVudChodG1sX2Y5MDMwOGM2ODEyZjRiYjdhZTM4NDRmZTRjNWYxMzUwKTsKICAgICAgICAKCiAgICAgICAgY2lyY2xlX21hcmtlcl83NWE3MzUyNDMyMjU0ZjllOWJhMmUwZmNjZjcwMjQyYy5iaW5kUG9wdXAocG9wdXBfZWVjZjE3MzkzMDA2NDhkZjg1YjYxYTJkOGYzYWZkMWQpCiAgICAgICAgOwoKICAgICAgICAKICAgIAogICAgCiAgICAgICAgICAgIHZhciBjaXJjbGVfbWFya2VyXzJjMzk4NzU3YWM0YzQ2ZTI5Y2JlNjAzMGYyODUzNjUyID0gTC5jaXJjbGVNYXJrZXIoCiAgICAgICAgICAgICAgICBbNDMuNjQ4OTU5NywgLTc5LjQ1NjMyNV0sCiAgICAgICAgICAgICAgICB7ImJ1YmJsaW5nTW91c2VFdmVudHMiOiB0cnVlLCAiY29sb3IiOiAiYmx1ZSIsICJkYXNoQXJyYXkiOiBudWxsLCAiZGFzaE9mZnNldCI6IG51bGwsICJmaWxsIjogdHJ1ZSwgImZpbGxDb2xvciI6ICIjMzE4NmNjIiwgImZpbGxPcGFjaXR5IjogMC43LCAiZmlsbFJ1bGUiOiAiZXZlbm9kZCIsICJsaW5lQ2FwIjogInJvdW5kIiwgImxpbmVKb2luIjogInJvdW5kIiwgIm9wYWNpdHkiOiAxLjAsICJyYWRpdXMiOiA1LCAic3Ryb2tlIjogdHJ1ZSwgIndlaWdodCI6IDN9CiAgICAgICAgICAgICkuYWRkVG8obWFwXzFlYmRhNjMzMjJmODRlMmZhMjI1YzgwYmM3NWM5NGFkKTsKICAgICAgICAKICAgIAogICAgICAgIHZhciBwb3B1cF9hMTJjMDFhNDY3NzM0MTMxOGIwZGEzMWViOTFhNmQ5YSA9IEwucG9wdXAoeyJtYXhXaWR0aCI6ICIxMDAlIn0pOwoKICAgICAgICAKICAgICAgICAgICAgdmFyIGh0bWxfYzUxNjg3OWM4NGZlNGM4MzlmOTRiMmMzNDNkMTU2N2EgPSAkKGA8ZGl2IGlkPSJodG1sX2M1MTY4NzljODRmZTRjODM5Zjk0YjJjMzQzZDE1NjdhIiBzdHlsZT0id2lkdGg6IDEwMC4wJTsgaGVpZ2h0OiAxMDAuMCU7Ij5QYXJrZGFsZSwgUm9uY2VzdmFsbGVzLCBXZXN0IFRvcm9udG88L2Rpdj5gKVswXTsKICAgICAgICAgICAgcG9wdXBfYTEyYzAxYTQ2NzczNDEzMThiMGRhMzFlYjkxYTZkOWEuc2V0Q29udGVudChodG1sX2M1MTY4NzljODRmZTRjODM5Zjk0YjJjMzQzZDE1NjdhKTsKICAgICAgICAKCiAgICAgICAgY2lyY2xlX21hcmtlcl8yYzM5ODc1N2FjNGM0NmUyOWNiZTYwMzBmMjg1MzY1Mi5iaW5kUG9wdXAocG9wdXBfYTEyYzAxYTQ2NzczNDEzMThiMGRhMzFlYjkxYTZkOWEpCiAgICAgICAgOwoKICAgICAgICAKICAgIAogICAgCiAgICAgICAgICAgIHZhciBjaXJjbGVfbWFya2VyX2IwMTM1ZTJiYjEwNjRhZWQ4YWYxZTg2MWEwYmVmM2I2ID0gTC5jaXJjbGVNYXJrZXIoCiAgICAgICAgICAgICAgICBbNDMuNzA0MzI0NCwgLTc5LjM4ODc5MDFdLAogICAgICAgICAgICAgICAgeyJidWJibGluZ01vdXNlRXZlbnRzIjogdHJ1ZSwgImNvbG9yIjogImJsdWUiLCAiZGFzaEFycmF5IjogbnVsbCwgImRhc2hPZmZzZXQiOiBudWxsLCAiZmlsbCI6IHRydWUsICJmaWxsQ29sb3IiOiAiIzMxODZjYyIsICJmaWxsT3BhY2l0eSI6IDAuNywgImZpbGxSdWxlIjogImV2ZW5vZGQiLCAibGluZUNhcCI6ICJyb3VuZCIsICJsaW5lSm9pbiI6ICJyb3VuZCIsICJvcGFjaXR5IjogMS4wLCAicmFkaXVzIjogNSwgInN0cm9rZSI6IHRydWUsICJ3ZWlnaHQiOiAzfQogICAgICAgICAgICApLmFkZFRvKG1hcF8xZWJkYTYzMzIyZjg0ZTJmYTIyNWM4MGJjNzVjOTRhZCk7CiAgICAgICAgCiAgICAKICAgICAgICB2YXIgcG9wdXBfMTEyY2UyNjRmNzJkNDI1ZTljNDhiZGVhNWYyMGRlMGUgPSBMLnBvcHVwKHsibWF4V2lkdGgiOiAiMTAwJSJ9KTsKCiAgICAgICAgCiAgICAgICAgICAgIHZhciBodG1sXzljZGJlZmE1NDUzOTRjYTk5ZjQxNjU1MGRmZTAzNjM4ID0gJChgPGRpdiBpZD0iaHRtbF85Y2RiZWZhNTQ1Mzk0Y2E5OWY0MTY1NTBkZmUwMzYzOCIgc3R5bGU9IndpZHRoOiAxMDAuMCU7IGhlaWdodDogMTAwLjAlOyI+RGF2aXN2aWxsZSwgQ2VudHJhbCBUb3JvbnRvPC9kaXY+YClbMF07CiAgICAgICAgICAgIHBvcHVwXzExMmNlMjY0ZjcyZDQyNWU5YzQ4YmRlYTVmMjBkZTBlLnNldENvbnRlbnQoaHRtbF85Y2RiZWZhNTQ1Mzk0Y2E5OWY0MTY1NTBkZmUwMzYzOCk7CiAgICAgICAgCgogICAgICAgIGNpcmNsZV9tYXJrZXJfYjAxMzVlMmJiMTA2NGFlZDhhZjFlODYxYTBiZWYzYjYuYmluZFBvcHVwKHBvcHVwXzExMmNlMjY0ZjcyZDQyNWU5YzQ4YmRlYTVmMjBkZTBlKQogICAgICAgIDsKCiAgICAgICAgCiAgICAKICAgIAogICAgICAgICAgICB2YXIgY2lyY2xlX21hcmtlcl80MTBmMjlkMTMwODA0M2M2ODc3MTA5YTRhYjQ5YWY3MyA9IEwuY2lyY2xlTWFya2VyKAogICAgICAgICAgICAgICAgWzQzLjY2MjY5NTYsIC03OS40MDAwNDkzXSwKICAgICAgICAgICAgICAgIHsiYnViYmxpbmdNb3VzZUV2ZW50cyI6IHRydWUsICJjb2xvciI6ICJibHVlIiwgImRhc2hBcnJheSI6IG51bGwsICJkYXNoT2Zmc2V0IjogbnVsbCwgImZpbGwiOiB0cnVlLCAiZmlsbENvbG9yIjogIiMzMTg2Y2MiLCAiZmlsbE9wYWNpdHkiOiAwLjcsICJmaWxsUnVsZSI6ICJldmVub2RkIiwgImxpbmVDYXAiOiAicm91bmQiLCAibGluZUpvaW4iOiAicm91bmQiLCAib3BhY2l0eSI6IDEuMCwgInJhZGl1cyI6IDUsICJzdHJva2UiOiB0cnVlLCAid2VpZ2h0IjogM30KICAgICAgICAgICAgKS5hZGRUbyhtYXBfMWViZGE2MzMyMmY4NGUyZmEyMjVjODBiYzc1Yzk0YWQpOwogICAgICAgIAogICAgCiAgICAgICAgdmFyIHBvcHVwXzJmMDg5NDkyZDE1ZTRiMjQ5MjUzZGFiOGM1NTM4MDA0ID0gTC5wb3B1cCh7Im1heFdpZHRoIjogIjEwMCUifSk7CgogICAgICAgIAogICAgICAgICAgICB2YXIgaHRtbF9lY2YyZTA5NDE2MDE0YWE2OWZmYjJmYmVkNmFjODZkYiA9ICQoYDxkaXYgaWQ9Imh0bWxfZWNmMmUwOTQxNjAxNGFhNjlmZmIyZmJlZDZhYzg2ZGIiIHN0eWxlPSJ3aWR0aDogMTAwLjAlOyBoZWlnaHQ6IDEwMC4wJTsiPlVuaXZlcnNpdHkgb2YgVG9yb250bywgSGFyYm9yZCwgRG93bnRvd24gVG9yb250bzwvZGl2PmApWzBdOwogICAgICAgICAgICBwb3B1cF8yZjA4OTQ5MmQxNWU0YjI0OTI1M2RhYjhjNTUzODAwNC5zZXRDb250ZW50KGh0bWxfZWNmMmUwOTQxNjAxNGFhNjlmZmIyZmJlZDZhYzg2ZGIpOwogICAgICAgIAoKICAgICAgICBjaXJjbGVfbWFya2VyXzQxMGYyOWQxMzA4MDQzYzY4NzcxMDlhNGFiNDlhZjczLmJpbmRQb3B1cChwb3B1cF8yZjA4OTQ5MmQxNWU0YjI0OTI1M2RhYjhjNTUzODAwNCkKICAgICAgICA7CgogICAgICAgIAogICAgCiAgICAKICAgICAgICAgICAgdmFyIGNpcmNsZV9tYXJrZXJfNjdlMTNiZTE0ZjhhNDU1NThiMjk3MDQwY2RkODk3NmQgPSBMLmNpcmNsZU1hcmtlcigKICAgICAgICAgICAgICAgIFs0My42NTE1NzA2LCAtNzkuNDg0NDQ5OV0sCiAgICAgICAgICAgICAgICB7ImJ1YmJsaW5nTW91c2VFdmVudHMiOiB0cnVlLCAiY29sb3IiOiAiYmx1ZSIsICJkYXNoQXJyYXkiOiBudWxsLCAiZGFzaE9mZnNldCI6IG51bGwsICJmaWxsIjogdHJ1ZSwgImZpbGxDb2xvciI6ICIjMzE4NmNjIiwgImZpbGxPcGFjaXR5IjogMC43LCAiZmlsbFJ1bGUiOiAiZXZlbm9kZCIsICJsaW5lQ2FwIjogInJvdW5kIiwgImxpbmVKb2luIjogInJvdW5kIiwgIm9wYWNpdHkiOiAxLjAsICJyYWRpdXMiOiA1LCAic3Ryb2tlIjogdHJ1ZSwgIndlaWdodCI6IDN9CiAgICAgICAgICAgICkuYWRkVG8obWFwXzFlYmRhNjMzMjJmODRlMmZhMjI1YzgwYmM3NWM5NGFkKTsKICAgICAgICAKICAgIAogICAgICAgIHZhciBwb3B1cF8yNDc2OGQwZDg5ZTU0MjhkYTcxZTkwZWYwYmYwNDhjMSA9IEwucG9wdXAoeyJtYXhXaWR0aCI6ICIxMDAlIn0pOwoKICAgICAgICAKICAgICAgICAgICAgdmFyIGh0bWxfYmRkYWJiZjFhYTBiNGQxMWE5NDY4MDcwMGQzNGZiNjUgPSAkKGA8ZGl2IGlkPSJodG1sX2JkZGFiYmYxYWEwYjRkMTFhOTQ2ODA3MDBkMzRmYjY1IiBzdHlsZT0id2lkdGg6IDEwMC4wJTsgaGVpZ2h0OiAxMDAuMCU7Ij5SdW5ueW1lZGUsIFN3YW5zZWEsIFdlc3QgVG9yb250bzwvZGl2PmApWzBdOwogICAgICAgICAgICBwb3B1cF8yNDc2OGQwZDg5ZTU0MjhkYTcxZTkwZWYwYmYwNDhjMS5zZXRDb250ZW50KGh0bWxfYmRkYWJiZjFhYTBiNGQxMWE5NDY4MDcwMGQzNGZiNjUpOwogICAgICAgIAoKICAgICAgICBjaXJjbGVfbWFya2VyXzY3ZTEzYmUxNGY4YTQ1NTU4YjI5NzA0MGNkZDg5NzZkLmJpbmRQb3B1cChwb3B1cF8yNDc2OGQwZDg5ZTU0MjhkYTcxZTkwZWYwYmYwNDhjMSkKICAgICAgICA7CgogICAgICAgIAogICAgCiAgICAKICAgICAgICAgICAgdmFyIGNpcmNsZV9tYXJrZXJfY2E1YzFhMGYzNGNmNDdjZGJmYjg4MmNhMWQ3NDdhZGIgPSBMLmNpcmNsZU1hcmtlcigKICAgICAgICAgICAgICAgIFs0My42ODk1NzQzLCAtNzkuMzgzMTU5OTAwMDAwMDJdLAogICAgICAgICAgICAgICAgeyJidWJibGluZ01vdXNlRXZlbnRzIjogdHJ1ZSwgImNvbG9yIjogImJsdWUiLCAiZGFzaEFycmF5IjogbnVsbCwgImRhc2hPZmZzZXQiOiBudWxsLCAiZmlsbCI6IHRydWUsICJmaWxsQ29sb3IiOiAiIzMxODZjYyIsICJmaWxsT3BhY2l0eSI6IDAuNywgImZpbGxSdWxlIjogImV2ZW5vZGQiLCAibGluZUNhcCI6ICJyb3VuZCIsICJsaW5lSm9pbiI6ICJyb3VuZCIsICJvcGFjaXR5IjogMS4wLCAicmFkaXVzIjogNSwgInN0cm9rZSI6IHRydWUsICJ3ZWlnaHQiOiAzfQogICAgICAgICAgICApLmFkZFRvKG1hcF8xZWJkYTYzMzIyZjg0ZTJmYTIyNWM4MGJjNzVjOTRhZCk7CiAgICAgICAgCiAgICAKICAgICAgICB2YXIgcG9wdXBfYzdiMjg5ZDU3NGJiNGUxMjg3MWRhNDVmY2NkYThlMmIgPSBMLnBvcHVwKHsibWF4V2lkdGgiOiAiMTAwJSJ9KTsKCiAgICAgICAgCiAgICAgICAgICAgIHZhciBodG1sX2Q0NWJhMmRiMGJmODQ4MTlhOTAwZWUyYTJhOTRlNWZhID0gJChgPGRpdiBpZD0iaHRtbF9kNDViYTJkYjBiZjg0ODE5YTkwMGVlMmEyYTk0ZTVmYSIgc3R5bGU9IndpZHRoOiAxMDAuMCU7IGhlaWdodDogMTAwLjAlOyI+TW9vcmUgUGFyaywgU3VtbWVyaGlsbCBFYXN0LCBDZW50cmFsIFRvcm9udG88L2Rpdj5gKVswXTsKICAgICAgICAgICAgcG9wdXBfYzdiMjg5ZDU3NGJiNGUxMjg3MWRhNDVmY2NkYThlMmIuc2V0Q29udGVudChodG1sX2Q0NWJhMmRiMGJmODQ4MTlhOTAwZWUyYTJhOTRlNWZhKTsKICAgICAgICAKCiAgICAgICAgY2lyY2xlX21hcmtlcl9jYTVjMWEwZjM0Y2Y0N2NkYmZiODgyY2ExZDc0N2FkYi5iaW5kUG9wdXAocG9wdXBfYzdiMjg5ZDU3NGJiNGUxMjg3MWRhNDVmY2NkYThlMmIpCiAgICAgICAgOwoKICAgICAgICAKICAgIAogICAgCiAgICAgICAgICAgIHZhciBjaXJjbGVfbWFya2VyX2ZlZDc5ZTlmZDgxOTQ2ZTdiMzViMzhiY2I5OTU1NzJhID0gTC5jaXJjbGVNYXJrZXIoCiAgICAgICAgICAgICAgICBbNDMuNjUzMjA1NywgLTc5LjQwMDA0OTNdLAogICAgICAgICAgICAgICAgeyJidWJibGluZ01vdXNlRXZlbnRzIjogdHJ1ZSwgImNvbG9yIjogImJsdWUiLCAiZGFzaEFycmF5IjogbnVsbCwgImRhc2hPZmZzZXQiOiBudWxsLCAiZmlsbCI6IHRydWUsICJmaWxsQ29sb3IiOiAiIzMxODZjYyIsICJmaWxsT3BhY2l0eSI6IDAuNywgImZpbGxSdWxlIjogImV2ZW5vZGQiLCAibGluZUNhcCI6ICJyb3VuZCIsICJsaW5lSm9pbiI6ICJyb3VuZCIsICJvcGFjaXR5IjogMS4wLCAicmFkaXVzIjogNSwgInN0cm9rZSI6IHRydWUsICJ3ZWlnaHQiOiAzfQogICAgICAgICAgICApLmFkZFRvKG1hcF8xZWJkYTYzMzIyZjg0ZTJmYTIyNWM4MGJjNzVjOTRhZCk7CiAgICAgICAgCiAgICAKICAgICAgICB2YXIgcG9wdXBfZWE0ZDA5Yjc1NTJhNGQ1MjkyNzk4YmNjOGY3MzYyYWYgPSBMLnBvcHVwKHsibWF4V2lkdGgiOiAiMTAwJSJ9KTsKCiAgICAgICAgCiAgICAgICAgICAgIHZhciBodG1sXzMxYzU3YjQ4ZDU3NTQwOGY4ZGNlZGZkOGVmMzY4MTM3ID0gJChgPGRpdiBpZD0iaHRtbF8zMWM1N2I0OGQ1NzU0MDhmOGRjZWRmZDhlZjM2ODEzNyIgc3R5bGU9IndpZHRoOiAxMDAuMCU7IGhlaWdodDogMTAwLjAlOyI+S2Vuc2luZ3RvbiBNYXJrZXQsIENoaW5hdG93biwgR3JhbmdlIFBhcmssIERvd250b3duIFRvcm9udG88L2Rpdj5gKVswXTsKICAgICAgICAgICAgcG9wdXBfZWE0ZDA5Yjc1NTJhNGQ1MjkyNzk4YmNjOGY3MzYyYWYuc2V0Q29udGVudChodG1sXzMxYzU3YjQ4ZDU3NTQwOGY4ZGNlZGZkOGVmMzY4MTM3KTsKICAgICAgICAKCiAgICAgICAgY2lyY2xlX21hcmtlcl9mZWQ3OWU5ZmQ4MTk0NmU3YjM1YjM4YmNiOTk1NTcyYS5iaW5kUG9wdXAocG9wdXBfZWE0ZDA5Yjc1NTJhNGQ1MjkyNzk4YmNjOGY3MzYyYWYpCiAgICAgICAgOwoKICAgICAgICAKICAgIAogICAgCiAgICAgICAgICAgIHZhciBjaXJjbGVfbWFya2VyXzdlMTUwZjE1NDdhOTQzNjE5YzI5NzNkM2M2ZjNmMGQyID0gTC5jaXJjbGVNYXJrZXIoCiAgICAgICAgICAgICAgICBbNDMuNjg2NDEyMjk5OTk5OTksIC03OS40MDAwNDkzXSwKICAgICAgICAgICAgICAgIHsiYnViYmxpbmdNb3VzZUV2ZW50cyI6IHRydWUsICJjb2xvciI6ICJibHVlIiwgImRhc2hBcnJheSI6IG51bGwsICJkYXNoT2Zmc2V0IjogbnVsbCwgImZpbGwiOiB0cnVlLCAiZmlsbENvbG9yIjogIiMzMTg2Y2MiLCAiZmlsbE9wYWNpdHkiOiAwLjcsICJmaWxsUnVsZSI6ICJldmVub2RkIiwgImxpbmVDYXAiOiAicm91bmQiLCAibGluZUpvaW4iOiAicm91bmQiLCAib3BhY2l0eSI6IDEuMCwgInJhZGl1cyI6IDUsICJzdHJva2UiOiB0cnVlLCAid2VpZ2h0IjogM30KICAgICAgICAgICAgKS5hZGRUbyhtYXBfMWViZGE2MzMyMmY4NGUyZmEyMjVjODBiYzc1Yzk0YWQpOwogICAgICAgIAogICAgCiAgICAgICAgdmFyIHBvcHVwX2M1MmY1Y2JkZDQzMTRhNGQ4NGYzMTBlZGY1Yjg4YzY5ID0gTC5wb3B1cCh7Im1heFdpZHRoIjogIjEwMCUifSk7CgogICAgICAgIAogICAgICAgICAgICB2YXIgaHRtbF81NTZjYjE2MTVjZGM0MmUwYWVkMDFkYmUyMDY2MmNkNiA9ICQoYDxkaXYgaWQ9Imh0bWxfNTU2Y2IxNjE1Y2RjNDJlMGFlZDAxZGJlMjA2NjJjZDYiIHN0eWxlPSJ3aWR0aDogMTAwLjAlOyBoZWlnaHQ6IDEwMC4wJTsiPlN1bW1lcmhpbGwgV2VzdCwgUmF0aG5lbGx5LCBTb3V0aCBIaWxsLCBGb3Jlc3QgSGlsbCBTRSwgRGVlciBQYXJrLCBDZW50cmFsIFRvcm9udG88L2Rpdj5gKVswXTsKICAgICAgICAgICAgcG9wdXBfYzUyZjVjYmRkNDMxNGE0ZDg0ZjMxMGVkZjViODhjNjkuc2V0Q29udGVudChodG1sXzU1NmNiMTYxNWNkYzQyZTBhZWQwMWRiZTIwNjYyY2Q2KTsKICAgICAgICAKCiAgICAgICAgY2lyY2xlX21hcmtlcl83ZTE1MGYxNTQ3YTk0MzYxOWMyOTczZDNjNmYzZjBkMi5iaW5kUG9wdXAocG9wdXBfYzUyZjVjYmRkNDMxNGE0ZDg0ZjMxMGVkZjViODhjNjkpCiAgICAgICAgOwoKICAgICAgICAKICAgIAogICAgCiAgICAgICAgICAgIHZhciBjaXJjbGVfbWFya2VyX2YxNzZmYTZmOWQ2YTRmZTJiOGM5YjFjNGYxOTc2NzRkID0gTC5jaXJjbGVNYXJrZXIoCiAgICAgICAgICAgICAgICBbNDMuNjI4OTQ2NywgLTc5LjM5NDQxOTldLAogICAgICAgICAgICAgICAgeyJidWJibGluZ01vdXNlRXZlbnRzIjogdHJ1ZSwgImNvbG9yIjogImJsdWUiLCAiZGFzaEFycmF5IjogbnVsbCwgImRhc2hPZmZzZXQiOiBudWxsLCAiZmlsbCI6IHRydWUsICJmaWxsQ29sb3IiOiAiIzMxODZjYyIsICJmaWxsT3BhY2l0eSI6IDAuNywgImZpbGxSdWxlIjogImV2ZW5vZGQiLCAibGluZUNhcCI6ICJyb3VuZCIsICJsaW5lSm9pbiI6ICJyb3VuZCIsICJvcGFjaXR5IjogMS4wLCAicmFkaXVzIjogNSwgInN0cm9rZSI6IHRydWUsICJ3ZWlnaHQiOiAzfQogICAgICAgICAgICApLmFkZFRvKG1hcF8xZWJkYTYzMzIyZjg0ZTJmYTIyNWM4MGJjNzVjOTRhZCk7CiAgICAgICAgCiAgICAKICAgICAgICB2YXIgcG9wdXBfMDIxM2ZhYTlmZDZhNDdmMDhhMjkzYjRhNDIwMzZlNmEgPSBMLnBvcHVwKHsibWF4V2lkdGgiOiAiMTAwJSJ9KTsKCiAgICAgICAgCiAgICAgICAgICAgIHZhciBodG1sXzU1ODFmM2FhNjIyZjRlYWY5ZGMxZmQ5N2YyNjJhODQ4ID0gJChgPGRpdiBpZD0iaHRtbF81NTgxZjNhYTYyMmY0ZWFmOWRjMWZkOTdmMjYyYTg0OCIgc3R5bGU9IndpZHRoOiAxMDAuMCU7IGhlaWdodDogMTAwLjAlOyI+Q04gVG93ZXIsIEtpbmcgYW5kIFNwYWRpbmEsIFJhaWx3YXkgTGFuZHMsIEhhcmJvdXJmcm9udCBXZXN0LCBCYXRodXJzdCBRdWF5LCBTb3V0aCBOaWFnYXJhLCBJc2xhbmQgYWlycG9ydCwgRG93bnRvd24gVG9yb250bzwvZGl2PmApWzBdOwogICAgICAgICAgICBwb3B1cF8wMjEzZmFhOWZkNmE0N2YwOGEyOTNiNGE0MjAzNmU2YS5zZXRDb250ZW50KGh0bWxfNTU4MWYzYWE2MjJmNGVhZjlkYzFmZDk3ZjI2MmE4NDgpOwogICAgICAgIAoKICAgICAgICBjaXJjbGVfbWFya2VyX2YxNzZmYTZmOWQ2YTRmZTJiOGM5YjFjNGYxOTc2NzRkLmJpbmRQb3B1cChwb3B1cF8wMjEzZmFhOWZkNmE0N2YwOGEyOTNiNGE0MjAzNmU2YSkKICAgICAgICA7CgogICAgICAgIAogICAgCiAgICAKICAgICAgICAgICAgdmFyIGNpcmNsZV9tYXJrZXJfYWUyMDU5NzAwMjcyNDFkZWI4MTk3Yjc5Y2Y5M2VhZDUgPSBMLmNpcmNsZU1hcmtlcigKICAgICAgICAgICAgICAgIFs0My42Nzk1NjI2LCAtNzkuMzc3NTI5NDAwMDAwMDFdLAogICAgICAgICAgICAgICAgeyJidWJibGluZ01vdXNlRXZlbnRzIjogdHJ1ZSwgImNvbG9yIjogImJsdWUiLCAiZGFzaEFycmF5IjogbnVsbCwgImRhc2hPZmZzZXQiOiBudWxsLCAiZmlsbCI6IHRydWUsICJmaWxsQ29sb3IiOiAiIzMxODZjYyIsICJmaWxsT3BhY2l0eSI6IDAuNywgImZpbGxSdWxlIjogImV2ZW5vZGQiLCAibGluZUNhcCI6ICJyb3VuZCIsICJsaW5lSm9pbiI6ICJyb3VuZCIsICJvcGFjaXR5IjogMS4wLCAicmFkaXVzIjogNSwgInN0cm9rZSI6IHRydWUsICJ3ZWlnaHQiOiAzfQogICAgICAgICAgICApLmFkZFRvKG1hcF8xZWJkYTYzMzIyZjg0ZTJmYTIyNWM4MGJjNzVjOTRhZCk7CiAgICAgICAgCiAgICAKICAgICAgICB2YXIgcG9wdXBfZjdkZmE2MjJhYWJjNGU4YWIxYzUyZWQ4ZDExZDBjZWQgPSBMLnBvcHVwKHsibWF4V2lkdGgiOiAiMTAwJSJ9KTsKCiAgICAgICAgCiAgICAgICAgICAgIHZhciBodG1sXzQ3ZDhhMWJhY2RiZjQzZWRhN2JjMzE0YTJiZDE4MTIwID0gJChgPGRpdiBpZD0iaHRtbF80N2Q4YTFiYWNkYmY0M2VkYTdiYzMxNGEyYmQxODEyMCIgc3R5bGU9IndpZHRoOiAxMDAuMCU7IGhlaWdodDogMTAwLjAlOyI+Um9zZWRhbGUsIERvd250b3duIFRvcm9udG88L2Rpdj5gKVswXTsKICAgICAgICAgICAgcG9wdXBfZjdkZmE2MjJhYWJjNGU4YWIxYzUyZWQ4ZDExZDBjZWQuc2V0Q29udGVudChodG1sXzQ3ZDhhMWJhY2RiZjQzZWRhN2JjMzE0YTJiZDE4MTIwKTsKICAgICAgICAKCiAgICAgICAgY2lyY2xlX21hcmtlcl9hZTIwNTk3MDAyNzI0MWRlYjgxOTdiNzljZjkzZWFkNS5iaW5kUG9wdXAocG9wdXBfZjdkZmE2MjJhYWJjNGU4YWIxYzUyZWQ4ZDExZDBjZWQpCiAgICAgICAgOwoKICAgICAgICAKICAgIAogICAgCiAgICAgICAgICAgIHZhciBjaXJjbGVfbWFya2VyX2VjYjlhZDc2OTIxZjQyMDZiODE0ZTgzZjZiMzE0ZTJiID0gTC5jaXJjbGVNYXJrZXIoCiAgICAgICAgICAgICAgICBbNDMuNjQ2NDM1MiwgLTc5LjM3NDg0NTk5OTk5OTk4XSwKICAgICAgICAgICAgICAgIHsiYnViYmxpbmdNb3VzZUV2ZW50cyI6IHRydWUsICJjb2xvciI6ICJibHVlIiwgImRhc2hBcnJheSI6IG51bGwsICJkYXNoT2Zmc2V0IjogbnVsbCwgImZpbGwiOiB0cnVlLCAiZmlsbENvbG9yIjogIiMzMTg2Y2MiLCAiZmlsbE9wYWNpdHkiOiAwLjcsICJmaWxsUnVsZSI6ICJldmVub2RkIiwgImxpbmVDYXAiOiAicm91bmQiLCAibGluZUpvaW4iOiAicm91bmQiLCAib3BhY2l0eSI6IDEuMCwgInJhZGl1cyI6IDUsICJzdHJva2UiOiB0cnVlLCAid2VpZ2h0IjogM30KICAgICAgICAgICAgKS5hZGRUbyhtYXBfMWViZGE2MzMyMmY4NGUyZmEyMjVjODBiYzc1Yzk0YWQpOwogICAgICAgIAogICAgCiAgICAgICAgdmFyIHBvcHVwXzY2MDZjY2RiMTI0MTRmNzI5MWE5YmY5MWRiZmY3YWVlID0gTC5wb3B1cCh7Im1heFdpZHRoIjogIjEwMCUifSk7CgogICAgICAgIAogICAgICAgICAgICB2YXIgaHRtbF84MTAzYTE1MjExMTA0Yzg0YTRmM2FjMGYxNGU0NWRjYiA9ICQoYDxkaXYgaWQ9Imh0bWxfODEwM2ExNTIxMTEwNGM4NGE0ZjNhYzBmMTRlNDVkY2IiIHN0eWxlPSJ3aWR0aDogMTAwLjAlOyBoZWlnaHQ6IDEwMC4wJTsiPlN0biBBIFBPIEJveGVzLCBEb3dudG93biBUb3JvbnRvPC9kaXY+YClbMF07CiAgICAgICAgICAgIHBvcHVwXzY2MDZjY2RiMTI0MTRmNzI5MWE5YmY5MWRiZmY3YWVlLnNldENvbnRlbnQoaHRtbF84MTAzYTE1MjExMTA0Yzg0YTRmM2FjMGYxNGU0NWRjYik7CiAgICAgICAgCgogICAgICAgIGNpcmNsZV9tYXJrZXJfZWNiOWFkNzY5MjFmNDIwNmI4MTRlODNmNmIzMTRlMmIuYmluZFBvcHVwKHBvcHVwXzY2MDZjY2RiMTI0MTRmNzI5MWE5YmY5MWRiZmY3YWVlKQogICAgICAgIDsKCiAgICAgICAgCiAgICAKICAgIAogICAgICAgICAgICB2YXIgY2lyY2xlX21hcmtlcl81ZWYyZjhkNzJjM2M0ZWQ4OTMyZThjYmRkMmJmZjczMSA9IEwuY2lyY2xlTWFya2VyKAogICAgICAgICAgICAgICAgWzQzLjY2Nzk2NywgLTc5LjM2NzY3NTNdLAogICAgICAgICAgICAgICAgeyJidWJibGluZ01vdXNlRXZlbnRzIjogdHJ1ZSwgImNvbG9yIjogImJsdWUiLCAiZGFzaEFycmF5IjogbnVsbCwgImRhc2hPZmZzZXQiOiBudWxsLCAiZmlsbCI6IHRydWUsICJmaWxsQ29sb3IiOiAiIzMxODZjYyIsICJmaWxsT3BhY2l0eSI6IDAuNywgImZpbGxSdWxlIjogImV2ZW5vZGQiLCAibGluZUNhcCI6ICJyb3VuZCIsICJsaW5lSm9pbiI6ICJyb3VuZCIsICJvcGFjaXR5IjogMS4wLCAicmFkaXVzIjogNSwgInN0cm9rZSI6IHRydWUsICJ3ZWlnaHQiOiAzfQogICAgICAgICAgICApLmFkZFRvKG1hcF8xZWJkYTYzMzIyZjg0ZTJmYTIyNWM4MGJjNzVjOTRhZCk7CiAgICAgICAgCiAgICAKICAgICAgICB2YXIgcG9wdXBfYjA2OGQxOGZmYTc0NDc4NmJkNjEzN2U3YTNmNjM1ZjQgPSBMLnBvcHVwKHsibWF4V2lkdGgiOiAiMTAwJSJ9KTsKCiAgICAgICAgCiAgICAgICAgICAgIHZhciBodG1sXzUyNWRmNDQ5ZWNmYzRlYjJiZTk5YWRjMzAwMWViZjA5ID0gJChgPGRpdiBpZD0iaHRtbF81MjVkZjQ0OWVjZmM0ZWIyYmU5OWFkYzMwMDFlYmYwOSIgc3R5bGU9IndpZHRoOiAxMDAuMCU7IGhlaWdodDogMTAwLjAlOyI+U3QuIEphbWVzIFRvd24sIENhYmJhZ2V0b3duLCBEb3dudG93biBUb3JvbnRvPC9kaXY+YClbMF07CiAgICAgICAgICAgIHBvcHVwX2IwNjhkMThmZmE3NDQ3ODZiZDYxMzdlN2EzZjYzNWY0LnNldENvbnRlbnQoaHRtbF81MjVkZjQ0OWVjZmM0ZWIyYmU5OWFkYzMwMDFlYmYwOSk7CiAgICAgICAgCgogICAgICAgIGNpcmNsZV9tYXJrZXJfNWVmMmY4ZDcyYzNjNGVkODkzMmU4Y2JkZDJiZmY3MzEuYmluZFBvcHVwKHBvcHVwX2IwNjhkMThmZmE3NDQ3ODZiZDYxMzdlN2EzZjYzNWY0KQogICAgICAgIDsKCiAgICAgICAgCiAgICAKICAgIAogICAgICAgICAgICB2YXIgY2lyY2xlX21hcmtlcl84NjQ3ZjUwMzM1OTY0ZWU1ODFhYWU1MGI4ZmMwMzNiYiA9IEwuY2lyY2xlTWFya2VyKAogICAgICAgICAgICAgICAgWzQzLjY0ODQyOTIsIC03OS4zODIyODAyXSwKICAgICAgICAgICAgICAgIHsiYnViYmxpbmdNb3VzZUV2ZW50cyI6IHRydWUsICJjb2xvciI6ICJibHVlIiwgImRhc2hBcnJheSI6IG51bGwsICJkYXNoT2Zmc2V0IjogbnVsbCwgImZpbGwiOiB0cnVlLCAiZmlsbENvbG9yIjogIiMzMTg2Y2MiLCAiZmlsbE9wYWNpdHkiOiAwLjcsICJmaWxsUnVsZSI6ICJldmVub2RkIiwgImxpbmVDYXAiOiAicm91bmQiLCAibGluZUpvaW4iOiAicm91bmQiLCAib3BhY2l0eSI6IDEuMCwgInJhZGl1cyI6IDUsICJzdHJva2UiOiB0cnVlLCAid2VpZ2h0IjogM30KICAgICAgICAgICAgKS5hZGRUbyhtYXBfMWViZGE2MzMyMmY4NGUyZmEyMjVjODBiYzc1Yzk0YWQpOwogICAgICAgIAogICAgCiAgICAgICAgdmFyIHBvcHVwXzE3NjU0Y2RlZjhjNjQyYjI5NGZlMmJlNTJhNDliMjBkID0gTC5wb3B1cCh7Im1heFdpZHRoIjogIjEwMCUifSk7CgogICAgICAgIAogICAgICAgICAgICB2YXIgaHRtbF84ODEyMzJhODgzYWM0MmEwYjIwNTY1YWVkZmQzYjQ5MCA9ICQoYDxkaXYgaWQ9Imh0bWxfODgxMjMyYTg4M2FjNDJhMGIyMDU2NWFlZGZkM2I0OTAiIHN0eWxlPSJ3aWR0aDogMTAwLjAlOyBoZWlnaHQ6IDEwMC4wJTsiPkZpcnN0IENhbmFkaWFuIFBsYWNlLCBVbmRlcmdyb3VuZCBjaXR5LCBEb3dudG93biBUb3JvbnRvPC9kaXY+YClbMF07CiAgICAgICAgICAgIHBvcHVwXzE3NjU0Y2RlZjhjNjQyYjI5NGZlMmJlNTJhNDliMjBkLnNldENvbnRlbnQoaHRtbF84ODEyMzJhODgzYWM0MmEwYjIwNTY1YWVkZmQzYjQ5MCk7CiAgICAgICAgCgogICAgICAgIGNpcmNsZV9tYXJrZXJfODY0N2Y1MDMzNTk2NGVlNTgxYWFlNTBiOGZjMDMzYmIuYmluZFBvcHVwKHBvcHVwXzE3NjU0Y2RlZjhjNjQyYjI5NGZlMmJlNTJhNDliMjBkKQogICAgICAgIDsKCiAgICAgICAgCiAgICAKICAgIAogICAgICAgICAgICB2YXIgY2lyY2xlX21hcmtlcl8xYWZiYzJkMjFlZTU0YjNlOTE4Y2QwZDhkNTYzNDJmNSA9IEwuY2lyY2xlTWFya2VyKAogICAgICAgICAgICAgICAgWzQzLjY2NTg1OTksIC03OS4zODMxNTk5MDAwMDAwMl0sCiAgICAgICAgICAgICAgICB7ImJ1YmJsaW5nTW91c2VFdmVudHMiOiB0cnVlLCAiY29sb3IiOiAiYmx1ZSIsICJkYXNoQXJyYXkiOiBudWxsLCAiZGFzaE9mZnNldCI6IG51bGwsICJmaWxsIjogdHJ1ZSwgImZpbGxDb2xvciI6ICIjMzE4NmNjIiwgImZpbGxPcGFjaXR5IjogMC43LCAiZmlsbFJ1bGUiOiAiZXZlbm9kZCIsICJsaW5lQ2FwIjogInJvdW5kIiwgImxpbmVKb2luIjogInJvdW5kIiwgIm9wYWNpdHkiOiAxLjAsICJyYWRpdXMiOiA1LCAic3Ryb2tlIjogdHJ1ZSwgIndlaWdodCI6IDN9CiAgICAgICAgICAgICkuYWRkVG8obWFwXzFlYmRhNjMzMjJmODRlMmZhMjI1YzgwYmM3NWM5NGFkKTsKICAgICAgICAKICAgIAogICAgICAgIHZhciBwb3B1cF9jZWMzMmYyOTkyYjg0MjZmODI0NWQ5ODU1OTQzYTdmZCA9IEwucG9wdXAoeyJtYXhXaWR0aCI6ICIxMDAlIn0pOwoKICAgICAgICAKICAgICAgICAgICAgdmFyIGh0bWxfY2MyMDkxYzEyMDk5NDc2NmI2MmJjNDZlOGFkODgyYTggPSAkKGA8ZGl2IGlkPSJodG1sX2NjMjA5MWMxMjA5OTQ3NjZiNjJiYzQ2ZThhZDg4MmE4IiBzdHlsZT0id2lkdGg6IDEwMC4wJTsgaGVpZ2h0OiAxMDAuMCU7Ij5DaHVyY2ggYW5kIFdlbGxlc2xleSwgRG93bnRvd24gVG9yb250bzwvZGl2PmApWzBdOwogICAgICAgICAgICBwb3B1cF9jZWMzMmYyOTkyYjg0MjZmODI0NWQ5ODU1OTQzYTdmZC5zZXRDb250ZW50KGh0bWxfY2MyMDkxYzEyMDk5NDc2NmI2MmJjNDZlOGFkODgyYTgpOwogICAgICAgIAoKICAgICAgICBjaXJjbGVfbWFya2VyXzFhZmJjMmQyMWVlNTRiM2U5MThjZDBkOGQ1NjM0MmY1LmJpbmRQb3B1cChwb3B1cF9jZWMzMmYyOTkyYjg0MjZmODI0NWQ5ODU1OTQzYTdmZCkKICAgICAgICA7CgogICAgICAgIAogICAgCiAgICAKICAgICAgICAgICAgdmFyIGNpcmNsZV9tYXJrZXJfZDE5MjAzNzAzNTAxNDdmNjgyYjliNTg5MjA2MzlmNmYgPSBMLmNpcmNsZU1hcmtlcigKICAgICAgICAgICAgICAgIFs0My42NjI3NDM5LCAtNzkuMzIxNTU4XSwKICAgICAgICAgICAgICAgIHsiYnViYmxpbmdNb3VzZUV2ZW50cyI6IHRydWUsICJjb2xvciI6ICJibHVlIiwgImRhc2hBcnJheSI6IG51bGwsICJkYXNoT2Zmc2V0IjogbnVsbCwgImZpbGwiOiB0cnVlLCAiZmlsbENvbG9yIjogIiMzMTg2Y2MiLCAiZmlsbE9wYWNpdHkiOiAwLjcsICJmaWxsUnVsZSI6ICJldmVub2RkIiwgImxpbmVDYXAiOiAicm91bmQiLCAibGluZUpvaW4iOiAicm91bmQiLCAib3BhY2l0eSI6IDEuMCwgInJhZGl1cyI6IDUsICJzdHJva2UiOiB0cnVlLCAid2VpZ2h0IjogM30KICAgICAgICAgICAgKS5hZGRUbyhtYXBfMWViZGE2MzMyMmY4NGUyZmEyMjVjODBiYzc1Yzk0YWQpOwogICAgICAgIAogICAgCiAgICAgICAgdmFyIHBvcHVwXzlkZDA2OGMxNGY3OTQ0NzNhMjIzNjk2ZTg4MTRjODUxID0gTC5wb3B1cCh7Im1heFdpZHRoIjogIjEwMCUifSk7CgogICAgICAgIAogICAgICAgICAgICB2YXIgaHRtbF9mOTg5NWVmZTExNzc0ZjE1YjA2MjE3ZWEwMTgzZGU5MCA9ICQoYDxkaXYgaWQ9Imh0bWxfZjk4OTVlZmUxMTc3NGYxNWIwNjIxN2VhMDE4M2RlOTAiIHN0eWxlPSJ3aWR0aDogMTAwLjAlOyBoZWlnaHQ6IDEwMC4wJTsiPkJ1c2luZXNzIHJlcGx5IG1haWwgUHJvY2Vzc2luZyBDZW50cmUsIFNvdXRoIENlbnRyYWwgTGV0dGVyIFByb2Nlc3NpbmcgUGxhbnQgVG9yb250bywgRWFzdCBUb3JvbnRvPC9kaXY+YClbMF07CiAgICAgICAgICAgIHBvcHVwXzlkZDA2OGMxNGY3OTQ0NzNhMjIzNjk2ZTg4MTRjODUxLnNldENvbnRlbnQoaHRtbF9mOTg5NWVmZTExNzc0ZjE1YjA2MjE3ZWEwMTgzZGU5MCk7CiAgICAgICAgCgogICAgICAgIGNpcmNsZV9tYXJrZXJfZDE5MjAzNzAzNTAxNDdmNjgyYjliNTg5MjA2MzlmNmYuYmluZFBvcHVwKHBvcHVwXzlkZDA2OGMxNGY3OTQ0NzNhMjIzNjk2ZTg4MTRjODUxKQogICAgICAgIDsKCiAgICAgICAgCiAgICAKPC9zY3JpcHQ+ onload=\"this.contentDocument.open();this.contentDocument.write(atob(this.getAttribute('data-html')));this.contentDocument.close();\" allowfullscreen webkitallowfullscreen mozallowfullscreen></iframe></div></div>"
      ],
      "text/plain": [
       "<folium.folium.Map at 0x2e82c64e190>"
      ]
     },
     "execution_count": 7,
     "metadata": {},
     "output_type": "execute_result"
    }
   ],
   "source": [
    "# create map of Toronto using latitude and longitude values\n",
    "map_toronto = folium.Map(location=[latitude, longitude], zoom_start=12)\n",
    "\n",
    "# add markers to m\n",
    "for lat, lng, borough, neighborhood in zip(TorontoDf['Latitude'], TorontoDf['Longitude'], TorontoDf['Borough'], TorontoDf['Neighborhood']):\n",
    "    label = '{}, {}'.format(neighborhood, borough)\n",
    "    label = folium.Popup(label, parse_html=True)\n",
    "    folium.CircleMarker(\n",
    "        [lat, lng],\n",
    "        radius=5,\n",
    "        popup=label,\n",
    "        color='blue',\n",
    "        fill=True,\n",
    "        fill_color='#3186cc',\n",
    "        fill_opacity=0.7,\n",
    "        parse_html=False).add_to(map_toronto)  \n",
    "map_toronto\n",
    "\n"
   ]
  },
  {
   "cell_type": "markdown",
   "metadata": {},
   "source": [
    "#### Getting data from Foursquare"
   ]
  },
  {
   "cell_type": "code",
   "execution_count": 8,
   "metadata": {},
   "outputs": [],
   "source": [
    "#Credentials\n",
    "CLIENT_ID = 'your-client-ID' # your Foursquare ID\n",
    "CLIENT_SECRET = 'your-client-secret' # your Foursquare Secret\n",
    "VERSION = '20180605' # Foursquare API version"
   ]
  },
  {
   "cell_type": "markdown",
   "metadata": {},
   "source": [
    "#### Getting best restaurants from Toronto"
   ]
  },
  {
   "cell_type": "code",
   "execution_count": 9,
   "metadata": {},
   "outputs": [],
   "source": [
    "LIMIT = 20 # limit of number of venues returned by Foursquare API\n",
    "\n",
    "query = \"Good Restaurants\"\n",
    "\n",
    "near = \"Toronto, ON, Canadá\"\n",
    "\n",
    "# create URL\n",
    "url = 'https://api.foursquare.com/v2/venues/explore?&client_id={}&client_secret={}&v={}&near={}&query={}&limit={}'.format(\n",
    "    CLIENT_ID, \n",
    "    CLIENT_SECRET, \n",
    "    VERSION, \n",
    "    near,\n",
    "    query,\n",
    "    LIMIT)"
   ]
  },
  {
   "cell_type": "code",
   "execution_count": 10,
   "metadata": {},
   "outputs": [],
   "source": [
    "# Send the request\n",
    "best_restaurants = requests.get(url).json()"
   ]
  },
  {
   "cell_type": "code",
   "execution_count": 11,
   "metadata": {},
   "outputs": [],
   "source": [
    "# function that extracts the category of the venue\n",
    "def get_category_type(row):\n",
    "    try:\n",
    "        categories_list = row['categories']\n",
    "    except:\n",
    "        categories_list = row['venue.categories']\n",
    "        \n",
    "    if len(categories_list) == 0:\n",
    "        return None\n",
    "    else:\n",
    "        return categories_list[0]['name']"
   ]
  },
  {
   "cell_type": "code",
   "execution_count": 12,
   "metadata": {},
   "outputs": [
    {
     "name": "stderr",
     "output_type": "stream",
     "text": [
      "<ipython-input-12-d367e13234f0>:3: FutureWarning: pandas.io.json.json_normalize is deprecated, use pandas.json_normalize instead\n",
      "  best_restaurants = json_normalize(restaurants) # flatten JSON\n"
     ]
    },
    {
     "data": {
      "text/html": [
       "<div>\n",
       "<style scoped>\n",
       "    .dataframe tbody tr th:only-of-type {\n",
       "        vertical-align: middle;\n",
       "    }\n",
       "\n",
       "    .dataframe tbody tr th {\n",
       "        vertical-align: top;\n",
       "    }\n",
       "\n",
       "    .dataframe thead th {\n",
       "        text-align: right;\n",
       "    }\n",
       "</style>\n",
       "<table border=\"1\" class=\"dataframe\">\n",
       "  <thead>\n",
       "    <tr style=\"text-align: right;\">\n",
       "      <th></th>\n",
       "      <th>id</th>\n",
       "      <th>name</th>\n",
       "      <th>categories</th>\n",
       "      <th>lat</th>\n",
       "      <th>lng</th>\n",
       "    </tr>\n",
       "  </thead>\n",
       "  <tbody>\n",
       "    <tr>\n",
       "      <th>0</th>\n",
       "      <td>4ad4c05ef964a52096f620e3</td>\n",
       "      <td>CN Tower</td>\n",
       "      <td>Monument / Landmark</td>\n",
       "      <td>43.642536</td>\n",
       "      <td>-79.387182</td>\n",
       "    </tr>\n",
       "    <tr>\n",
       "      <th>1</th>\n",
       "      <td>4b49183ff964a520a46526e3</td>\n",
       "      <td>Terroni</td>\n",
       "      <td>Italian Restaurant</td>\n",
       "      <td>43.650927</td>\n",
       "      <td>-79.375602</td>\n",
       "    </tr>\n",
       "    <tr>\n",
       "      <th>2</th>\n",
       "      <td>4be8b576d837c9b6e2b6a506</td>\n",
       "      <td>Makkalchon Korean Restaurant 맛깔촌</td>\n",
       "      <td>Korean Restaurant</td>\n",
       "      <td>43.744945</td>\n",
       "      <td>-79.296494</td>\n",
       "    </tr>\n",
       "    <tr>\n",
       "      <th>3</th>\n",
       "      <td>581cad6a7c74e15859a6f890</td>\n",
       "      <td>Scaddabush Italian Kitchen &amp; Bar</td>\n",
       "      <td>Italian Restaurant</td>\n",
       "      <td>43.644737</td>\n",
       "      <td>-79.385355</td>\n",
       "    </tr>\n",
       "    <tr>\n",
       "      <th>4</th>\n",
       "      <td>4ae7b27df964a52068ad21e3</td>\n",
       "      <td>Japango</td>\n",
       "      <td>Sushi Restaurant</td>\n",
       "      <td>43.655268</td>\n",
       "      <td>-79.385165</td>\n",
       "    </tr>\n",
       "  </tbody>\n",
       "</table>\n",
       "</div>"
      ],
      "text/plain": [
       "                         id                              name  \\\n",
       "0  4ad4c05ef964a52096f620e3                          CN Tower   \n",
       "1  4b49183ff964a520a46526e3                           Terroni   \n",
       "2  4be8b576d837c9b6e2b6a506  Makkalchon Korean Restaurant 맛깔촌   \n",
       "3  581cad6a7c74e15859a6f890  Scaddabush Italian Kitchen & Bar   \n",
       "4  4ae7b27df964a52068ad21e3                           Japango   \n",
       "\n",
       "            categories        lat        lng  \n",
       "0  Monument / Landmark  43.642536 -79.387182  \n",
       "1   Italian Restaurant  43.650927 -79.375602  \n",
       "2    Korean Restaurant  43.744945 -79.296494  \n",
       "3   Italian Restaurant  43.644737 -79.385355  \n",
       "4     Sushi Restaurant  43.655268 -79.385165  "
      ]
     },
     "execution_count": 12,
     "metadata": {},
     "output_type": "execute_result"
    }
   ],
   "source": [
    "restaurants = best_restaurants['response']['groups'][0]['items']\n",
    "    \n",
    "best_restaurants = json_normalize(restaurants) # flatten JSON\n",
    "\n",
    "# filter columns\n",
    "filtered_columns = ['venue.id','venue.name', 'venue.categories', 'venue.location.lat', 'venue.location.lng']\n",
    "best_restaurants = best_restaurants.loc[:, filtered_columns]\n",
    "\n",
    "# filter the category for each row\n",
    "best_restaurants['venue.categories'] = best_restaurants.apply(get_category_type, axis=1)\n",
    "\n",
    "# clean columns\n",
    "best_restaurants.columns = [col.split(\".\")[-1] for col in best_restaurants.columns]\n",
    "\n",
    "best_restaurants.head()"
   ]
  },
  {
   "cell_type": "markdown",
   "metadata": {},
   "source": [
    "### 3. Analyzing the data"
   ]
  },
  {
   "cell_type": "markdown",
   "metadata": {},
   "source": [
    "#### Sorting restaurants by rating"
   ]
  },
  {
   "cell_type": "code",
   "execution_count": 13,
   "metadata": {},
   "outputs": [],
   "source": [
    "def SortRestaurants(best_restaurants):\n",
    "    \n",
    "    ratings = list()\n",
    "    prices = list()\n",
    "    \n",
    "    for index, restaurant in best_restaurants.iterrows():\n",
    "            \n",
    "        # create the API request URL\n",
    "        url = 'https://api.foursquare.com/v2/venues/{}?&client_id={}&client_secret={}&v={}'.format(\n",
    "            restaurant[\"id\"],\n",
    "            CLIENT_ID, \n",
    "            CLIENT_SECRET, \n",
    "            VERSION)\n",
    "            \n",
    "        # make the GET request\n",
    "        details = requests.get(url).json()\n",
    "        try:\n",
    "            ratings.append(details[\"response\"][\"venue\"][\"rating\"])\n",
    "        except:\n",
    "            ratings.append(5)\n",
    "        try:\n",
    "            prices.append(details[\"response\"][\"venue\"][\"price\"][\"tier\"])\n",
    "        except:\n",
    "            prices.append(3)\n",
    "        \n",
    "    \n",
    "    best_restaurants[\"price\"] = prices\n",
    "    best_restaurants[\"rating\"] = ratings\n",
    "    return(best_restaurants.sort_values(by = 'rating', ascending = False).reset_index(drop=True).copy())"
   ]
  },
  {
   "cell_type": "code",
   "execution_count": 14,
   "metadata": {},
   "outputs": [
    {
     "data": {
      "text/html": [
       "<div>\n",
       "<style scoped>\n",
       "    .dataframe tbody tr th:only-of-type {\n",
       "        vertical-align: middle;\n",
       "    }\n",
       "\n",
       "    .dataframe tbody tr th {\n",
       "        vertical-align: top;\n",
       "    }\n",
       "\n",
       "    .dataframe thead th {\n",
       "        text-align: right;\n",
       "    }\n",
       "</style>\n",
       "<table border=\"1\" class=\"dataframe\">\n",
       "  <thead>\n",
       "    <tr style=\"text-align: right;\">\n",
       "      <th></th>\n",
       "      <th>id</th>\n",
       "      <th>name</th>\n",
       "      <th>categories</th>\n",
       "      <th>lat</th>\n",
       "      <th>lng</th>\n",
       "      <th>price</th>\n",
       "      <th>rating</th>\n",
       "    </tr>\n",
       "  </thead>\n",
       "  <tbody>\n",
       "    <tr>\n",
       "      <th>0</th>\n",
       "      <td>4ad4c05ef964a520bff620e3</td>\n",
       "      <td>The Distillery Historic District</td>\n",
       "      <td>Historic Site</td>\n",
       "      <td>43.650244</td>\n",
       "      <td>-79.359323</td>\n",
       "      <td>3</td>\n",
       "      <td>9.3</td>\n",
       "    </tr>\n",
       "    <tr>\n",
       "      <th>1</th>\n",
       "      <td>4ee8f32602d5895bd7dce1b1</td>\n",
       "      <td>Gusto 101</td>\n",
       "      <td>Italian Restaurant</td>\n",
       "      <td>43.644988</td>\n",
       "      <td>-79.400270</td>\n",
       "      <td>2</td>\n",
       "      <td>9.0</td>\n",
       "    </tr>\n",
       "    <tr>\n",
       "      <th>2</th>\n",
       "      <td>529612de11d2ab526191ccc9</td>\n",
       "      <td>Pai</td>\n",
       "      <td>Thai Restaurant</td>\n",
       "      <td>43.647923</td>\n",
       "      <td>-79.388579</td>\n",
       "      <td>2</td>\n",
       "      <td>9.0</td>\n",
       "    </tr>\n",
       "    <tr>\n",
       "      <th>3</th>\n",
       "      <td>4ad4c05ef964a52096f620e3</td>\n",
       "      <td>CN Tower</td>\n",
       "      <td>Monument / Landmark</td>\n",
       "      <td>43.642536</td>\n",
       "      <td>-79.387182</td>\n",
       "      <td>3</td>\n",
       "      <td>8.9</td>\n",
       "    </tr>\n",
       "    <tr>\n",
       "      <th>4</th>\n",
       "      <td>4adb969ef964a520332921e3</td>\n",
       "      <td>Banjara Indian Cuisine</td>\n",
       "      <td>Indian Restaurant</td>\n",
       "      <td>43.662916</td>\n",
       "      <td>-79.421911</td>\n",
       "      <td>1</td>\n",
       "      <td>8.6</td>\n",
       "    </tr>\n",
       "    <tr>\n",
       "      <th>5</th>\n",
       "      <td>4b15383bf964a52079a923e3</td>\n",
       "      <td>Capocaccia Café</td>\n",
       "      <td>Italian Restaurant</td>\n",
       "      <td>43.685915</td>\n",
       "      <td>-79.393305</td>\n",
       "      <td>3</td>\n",
       "      <td>8.5</td>\n",
       "    </tr>\n",
       "    <tr>\n",
       "      <th>6</th>\n",
       "      <td>4b49183ff964a520a46526e3</td>\n",
       "      <td>Terroni</td>\n",
       "      <td>Italian Restaurant</td>\n",
       "      <td>43.650927</td>\n",
       "      <td>-79.375602</td>\n",
       "      <td>3</td>\n",
       "      <td>8.5</td>\n",
       "    </tr>\n",
       "    <tr>\n",
       "      <th>7</th>\n",
       "      <td>4ae86fb7f964a52053af21e3</td>\n",
       "      <td>Balsamico</td>\n",
       "      <td>Italian Restaurant</td>\n",
       "      <td>43.701505</td>\n",
       "      <td>-79.397162</td>\n",
       "      <td>2</td>\n",
       "      <td>8.5</td>\n",
       "    </tr>\n",
       "    <tr>\n",
       "      <th>8</th>\n",
       "      <td>4ae338e1f964a520e39121e3</td>\n",
       "      <td>Le Sélect Bistro</td>\n",
       "      <td>French Restaurant</td>\n",
       "      <td>43.643699</td>\n",
       "      <td>-79.396667</td>\n",
       "      <td>2</td>\n",
       "      <td>8.4</td>\n",
       "    </tr>\n",
       "    <tr>\n",
       "      <th>9</th>\n",
       "      <td>4aec5a49f964a52044c621e3</td>\n",
       "      <td>Tutto Pronto</td>\n",
       "      <td>Italian Restaurant</td>\n",
       "      <td>43.728235</td>\n",
       "      <td>-79.418086</td>\n",
       "      <td>2</td>\n",
       "      <td>8.4</td>\n",
       "    </tr>\n",
       "    <tr>\n",
       "      <th>10</th>\n",
       "      <td>4ae7b27df964a52068ad21e3</td>\n",
       "      <td>Japango</td>\n",
       "      <td>Sushi Restaurant</td>\n",
       "      <td>43.655268</td>\n",
       "      <td>-79.385165</td>\n",
       "      <td>3</td>\n",
       "      <td>8.4</td>\n",
       "    </tr>\n",
       "    <tr>\n",
       "      <th>11</th>\n",
       "      <td>55fc571f498ec35023360858</td>\n",
       "      <td>Cactus Club Cafe</td>\n",
       "      <td>American Restaurant</td>\n",
       "      <td>43.649552</td>\n",
       "      <td>-79.381671</td>\n",
       "      <td>2</td>\n",
       "      <td>8.3</td>\n",
       "    </tr>\n",
       "    <tr>\n",
       "      <th>12</th>\n",
       "      <td>4be8b576d837c9b6e2b6a506</td>\n",
       "      <td>Makkalchon Korean Restaurant 맛깔촌</td>\n",
       "      <td>Korean Restaurant</td>\n",
       "      <td>43.744945</td>\n",
       "      <td>-79.296494</td>\n",
       "      <td>2</td>\n",
       "      <td>8.2</td>\n",
       "    </tr>\n",
       "    <tr>\n",
       "      <th>13</th>\n",
       "      <td>4ecee6d1be7b9eecde3a4aff</td>\n",
       "      <td>Grand Electric</td>\n",
       "      <td>Mexican Restaurant</td>\n",
       "      <td>43.641714</td>\n",
       "      <td>-79.431545</td>\n",
       "      <td>2</td>\n",
       "      <td>8.2</td>\n",
       "    </tr>\n",
       "    <tr>\n",
       "      <th>14</th>\n",
       "      <td>51ddecee498e1ffd34185d2f</td>\n",
       "      <td>El Catrin</td>\n",
       "      <td>Mexican Restaurant</td>\n",
       "      <td>43.650601</td>\n",
       "      <td>-79.358920</td>\n",
       "      <td>3</td>\n",
       "      <td>8.0</td>\n",
       "    </tr>\n",
       "    <tr>\n",
       "      <th>15</th>\n",
       "      <td>4acf2eb1f964a5209fd220e3</td>\n",
       "      <td>UFO Restaurant</td>\n",
       "      <td>Diner</td>\n",
       "      <td>43.643999</td>\n",
       "      <td>-79.408767</td>\n",
       "      <td>1</td>\n",
       "      <td>7.9</td>\n",
       "    </tr>\n",
       "    <tr>\n",
       "      <th>16</th>\n",
       "      <td>581cad6a7c74e15859a6f890</td>\n",
       "      <td>Scaddabush Italian Kitchen &amp; Bar</td>\n",
       "      <td>Italian Restaurant</td>\n",
       "      <td>43.644737</td>\n",
       "      <td>-79.385355</td>\n",
       "      <td>2</td>\n",
       "      <td>7.7</td>\n",
       "    </tr>\n",
       "    <tr>\n",
       "      <th>17</th>\n",
       "      <td>4b1169f6f964a520177c23e3</td>\n",
       "      <td>Baldini</td>\n",
       "      <td>Italian Restaurant</td>\n",
       "      <td>43.661300</td>\n",
       "      <td>-79.339027</td>\n",
       "      <td>3</td>\n",
       "      <td>7.7</td>\n",
       "    </tr>\n",
       "    <tr>\n",
       "      <th>18</th>\n",
       "      <td>4af4c64df964a5200ef621e3</td>\n",
       "      <td>Jungsoo Nae 정수네</td>\n",
       "      <td>Korean Restaurant</td>\n",
       "      <td>43.783590</td>\n",
       "      <td>-79.416480</td>\n",
       "      <td>2</td>\n",
       "      <td>7.5</td>\n",
       "    </tr>\n",
       "    <tr>\n",
       "      <th>19</th>\n",
       "      <td>4adcc164f964a520722f21e3</td>\n",
       "      <td>Cantanhede O Bairradino</td>\n",
       "      <td>Portuguese Restaurant</td>\n",
       "      <td>43.662546</td>\n",
       "      <td>-79.444656</td>\n",
       "      <td>2</td>\n",
       "      <td>7.3</td>\n",
       "    </tr>\n",
       "  </tbody>\n",
       "</table>\n",
       "</div>"
      ],
      "text/plain": [
       "                          id                              name  \\\n",
       "0   4ad4c05ef964a520bff620e3  The Distillery Historic District   \n",
       "1   4ee8f32602d5895bd7dce1b1                         Gusto 101   \n",
       "2   529612de11d2ab526191ccc9                               Pai   \n",
       "3   4ad4c05ef964a52096f620e3                          CN Tower   \n",
       "4   4adb969ef964a520332921e3            Banjara Indian Cuisine   \n",
       "5   4b15383bf964a52079a923e3                   Capocaccia Café   \n",
       "6   4b49183ff964a520a46526e3                           Terroni   \n",
       "7   4ae86fb7f964a52053af21e3                         Balsamico   \n",
       "8   4ae338e1f964a520e39121e3                  Le Sélect Bistro   \n",
       "9   4aec5a49f964a52044c621e3                      Tutto Pronto   \n",
       "10  4ae7b27df964a52068ad21e3                           Japango   \n",
       "11  55fc571f498ec35023360858                  Cactus Club Cafe   \n",
       "12  4be8b576d837c9b6e2b6a506  Makkalchon Korean Restaurant 맛깔촌   \n",
       "13  4ecee6d1be7b9eecde3a4aff                    Grand Electric   \n",
       "14  51ddecee498e1ffd34185d2f                         El Catrin   \n",
       "15  4acf2eb1f964a5209fd220e3                    UFO Restaurant   \n",
       "16  581cad6a7c74e15859a6f890  Scaddabush Italian Kitchen & Bar   \n",
       "17  4b1169f6f964a520177c23e3                           Baldini   \n",
       "18  4af4c64df964a5200ef621e3                   Jungsoo Nae 정수네   \n",
       "19  4adcc164f964a520722f21e3           Cantanhede O Bairradino   \n",
       "\n",
       "               categories        lat        lng  price  rating  \n",
       "0           Historic Site  43.650244 -79.359323      3     9.3  \n",
       "1      Italian Restaurant  43.644988 -79.400270      2     9.0  \n",
       "2         Thai Restaurant  43.647923 -79.388579      2     9.0  \n",
       "3     Monument / Landmark  43.642536 -79.387182      3     8.9  \n",
       "4       Indian Restaurant  43.662916 -79.421911      1     8.6  \n",
       "5      Italian Restaurant  43.685915 -79.393305      3     8.5  \n",
       "6      Italian Restaurant  43.650927 -79.375602      3     8.5  \n",
       "7      Italian Restaurant  43.701505 -79.397162      2     8.5  \n",
       "8       French Restaurant  43.643699 -79.396667      2     8.4  \n",
       "9      Italian Restaurant  43.728235 -79.418086      2     8.4  \n",
       "10       Sushi Restaurant  43.655268 -79.385165      3     8.4  \n",
       "11    American Restaurant  43.649552 -79.381671      2     8.3  \n",
       "12      Korean Restaurant  43.744945 -79.296494      2     8.2  \n",
       "13     Mexican Restaurant  43.641714 -79.431545      2     8.2  \n",
       "14     Mexican Restaurant  43.650601 -79.358920      3     8.0  \n",
       "15                  Diner  43.643999 -79.408767      1     7.9  \n",
       "16     Italian Restaurant  43.644737 -79.385355      2     7.7  \n",
       "17     Italian Restaurant  43.661300 -79.339027      3     7.7  \n",
       "18      Korean Restaurant  43.783590 -79.416480      2     7.5  \n",
       "19  Portuguese Restaurant  43.662546 -79.444656      2     7.3  "
      ]
     },
     "execution_count": 14,
     "metadata": {},
     "output_type": "execute_result"
    }
   ],
   "source": [
    "restaurants_sorted = SortRestaurants(best_restaurants)\n",
    "restaurants_sorted.head(20)"
   ]
  },
  {
   "cell_type": "markdown",
   "metadata": {},
   "source": [
    "#### Best restaurants in Toronto on a map"
   ]
  },
  {
   "cell_type": "code",
   "execution_count": 15,
   "metadata": {},
   "outputs": [
    {
     "data": {
      "text/html": [
       "<div style=\"width:100%;\"><div style=\"position:relative;width:100%;height:0;padding-bottom:60%;\"><span style=\"color:#565656\">Make this Notebook Trusted to load map: File -> Trust Notebook</span><iframe src=\"about:blank\" style=\"position:absolute;width:100%;height:100%;left:0;top:0;border:none !important;\" data-html=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 onload=\"this.contentDocument.open();this.contentDocument.write(atob(this.getAttribute('data-html')));this.contentDocument.close();\" allowfullscreen webkitallowfullscreen mozallowfullscreen></iframe></div></div>"
      ],
      "text/plain": [
       "<folium.folium.Map at 0x2e82c7ba2e0>"
      ]
     },
     "execution_count": 15,
     "metadata": {},
     "output_type": "execute_result"
    }
   ],
   "source": [
    "# create map of Toronto using latitude and longitude values\n",
    "map_toronto = folium.Map(location=[latitude, longitude], zoom_start=11)\n",
    "\n",
    "# add markers to map\n",
    "for lat, lng, name, category in zip(restaurants_sorted['lat'], restaurants_sorted['lng'], restaurants_sorted['name'], restaurants_sorted['categories']):\n",
    "    label = '{}, {}'.format(name, category)\n",
    "    label = folium.Popup(label, parse_html=True)\n",
    "    folium.CircleMarker(\n",
    "        [lat, lng],\n",
    "        radius=10,\n",
    "        popup=label,\n",
    "        color='blue',\n",
    "        fill=True,\n",
    "        fill_color='#3186cc',\n",
    "        fill_opacity=0.7,\n",
    "        parse_html=False).add_to(map_toronto)\n",
    "    \n",
    "map_toronto"
   ]
  },
  {
   "cell_type": "markdown",
   "metadata": {},
   "source": [
    "#### Get the weights of the restaurants for a travel plan"
   ]
  },
  {
   "cell_type": "code",
   "execution_count": 16,
   "metadata": {},
   "outputs": [
    {
     "name": "stdout",
     "output_type": "stream",
     "text": [
      "[1.00000e+00 8.57375e-01 7.29000e-01 6.14125e-01 5.12000e-01 4.21875e-01\n",
      " 3.43000e-01 2.74625e-01 2.16000e-01 1.66375e-01 1.25000e-01 9.11250e-02\n",
      " 6.40000e-02 4.28750e-02 2.70000e-02 1.56250e-02 8.00000e-03 3.37500e-03\n",
      " 1.00000e-03 1.25000e-04]\n",
      "(20,)\n"
     ]
    }
   ],
   "source": [
    "weights = np.arange(1,0,-0.05)*np.arange(1,0,-0.05)*np.arange(1,0,-0.05)\n",
    "    \n",
    "print(weights)\n",
    "print(weights.shape)"
   ]
  },
  {
   "cell_type": "code",
   "execution_count": 17,
   "metadata": {},
   "outputs": [],
   "source": [
    "restaurants_sorted[\"weights\"] = weights"
   ]
  },
  {
   "cell_type": "code",
   "execution_count": 18,
   "metadata": {},
   "outputs": [],
   "source": [
    "def getNearbyVenues(names, latitudes, longitudes, query, radius=500, LIMIT = 40):\n",
    "    \n",
    "    venues_list=[]\n",
    "    for name, lat, lng in zip(names, latitudes, longitudes):\n",
    "        print(name)\n",
    "            \n",
    "        # create the API request URL\n",
    "        url = 'https://api.foursquare.com/v2/venues/explore?&client_id={}&client_secret={}&v={}&ll={},{}&radius={}&query={}&limit={}'.format(\n",
    "            CLIENT_ID, \n",
    "            CLIENT_SECRET, \n",
    "            VERSION, \n",
    "            lat, \n",
    "            lng, \n",
    "            radius,\n",
    "            query,\n",
    "            LIMIT)\n",
    "            \n",
    "        # make the GET request\n",
    "        results = requests.get(url).json()[\"response\"]['groups'][0]['items']\n",
    "        \n",
    "        # return only relevant information for each nearby venue\n",
    "        venues_list.append([(\n",
    "            name, \n",
    "            lat, \n",
    "            lng, \n",
    "            v['venue']['name'], \n",
    "            v['venue']['location']['lat'], \n",
    "            v['venue']['location']['lng'],  \n",
    "            v['venue']['categories'][0]['name']) for v in results])\n",
    "\n",
    "    nearby_venues = pd.DataFrame([item for venue_list in venues_list for item in venue_list])\n",
    "    nearby_venues.columns = ['Neighborhood', \n",
    "                  'Neighborhood Latitude', \n",
    "                  'Neighborhood Longitude', \n",
    "                  'Venue', \n",
    "                  'Venue Latitude', \n",
    "                  'Venue Longitude', \n",
    "                  'Venue Category']\n",
    "    \n",
    "    return(nearby_venues)"
   ]
  },
  {
   "cell_type": "code",
   "execution_count": 19,
   "metadata": {},
   "outputs": [
    {
     "name": "stdout",
     "output_type": "stream",
     "text": [
      "Regent Park, Harbourfront\n",
      "Queen's Park, Ontario Provincial Government\n",
      "Garden District, Ryerson\n",
      "St. James Town\n",
      "The Beaches\n",
      "Berczy Park\n",
      "Central Bay Street\n",
      "Christie\n",
      "Richmond, Adelaide, King\n",
      "Dufferin, Dovercourt Village\n",
      "Harbourfront East, Union Station, Toronto Islands\n",
      "Little Portugal, Trinity\n",
      "The Danforth West, Riverdale\n",
      "Toronto Dominion Centre, Design Exchange\n",
      "Brockton, Parkdale Village, Exhibition Place\n",
      "India Bazaar, The Beaches West\n",
      "Commerce Court, Victoria Hotel\n",
      "Studio District\n",
      "Lawrence Park\n",
      "Roselawn\n",
      "Davisville North\n",
      "Forest Hill North & West, Forest Hill Road Park\n",
      "High Park, The Junction South\n",
      "North Toronto West, Lawrence Park\n",
      "The Annex, North Midtown, Yorkville\n",
      "Parkdale, Roncesvalles\n",
      "Davisville\n",
      "University of Toronto, Harbord\n",
      "Runnymede, Swansea\n",
      "Moore Park, Summerhill East\n",
      "Kensington Market, Chinatown, Grange Park\n",
      "Summerhill West, Rathnelly, South Hill, Forest Hill SE, Deer Park\n",
      "CN Tower, King and Spadina, Railway Lands, Harbourfront West, Bathurst Quay, South Niagara, Island airport\n",
      "Rosedale\n",
      "Stn A PO Boxes\n",
      "St. James Town, Cabbagetown\n",
      "First Canadian Place, Underground city\n",
      "Church and Wellesley\n",
      "Business reply mail Processing Centre, South Central Letter Processing Plant Toronto\n"
     ]
    }
   ],
   "source": [
    "toronto_venues = getNearbyVenues(names=TorontoDf['Neighborhood'],\n",
    "                                   latitudes=TorontoDf['Latitude'],\n",
    "                                   longitudes=TorontoDf['Longitude'],\n",
    "                                   query = \"restaurants\")"
   ]
  },
  {
   "cell_type": "code",
   "execution_count": 20,
   "metadata": {},
   "outputs": [
    {
     "name": "stdout",
     "output_type": "stream",
     "text": [
      "(868, 7)\n"
     ]
    },
    {
     "data": {
      "text/html": [
       "<div>\n",
       "<style scoped>\n",
       "    .dataframe tbody tr th:only-of-type {\n",
       "        vertical-align: middle;\n",
       "    }\n",
       "\n",
       "    .dataframe tbody tr th {\n",
       "        vertical-align: top;\n",
       "    }\n",
       "\n",
       "    .dataframe thead th {\n",
       "        text-align: right;\n",
       "    }\n",
       "</style>\n",
       "<table border=\"1\" class=\"dataframe\">\n",
       "  <thead>\n",
       "    <tr style=\"text-align: right;\">\n",
       "      <th></th>\n",
       "      <th>Neighborhood</th>\n",
       "      <th>Neighborhood Latitude</th>\n",
       "      <th>Neighborhood Longitude</th>\n",
       "      <th>Venue</th>\n",
       "      <th>Venue Latitude</th>\n",
       "      <th>Venue Longitude</th>\n",
       "      <th>Venue Category</th>\n",
       "    </tr>\n",
       "  </thead>\n",
       "  <tbody>\n",
       "    <tr>\n",
       "      <th>0</th>\n",
       "      <td>Regent Park, Harbourfront</td>\n",
       "      <td>43.65426</td>\n",
       "      <td>-79.360636</td>\n",
       "      <td>Impact Kitchen</td>\n",
       "      <td>43.656369</td>\n",
       "      <td>-79.356980</td>\n",
       "      <td>Restaurant</td>\n",
       "    </tr>\n",
       "    <tr>\n",
       "      <th>1</th>\n",
       "      <td>Regent Park, Harbourfront</td>\n",
       "      <td>43.65426</td>\n",
       "      <td>-79.360636</td>\n",
       "      <td>Morning Glory Cafe</td>\n",
       "      <td>43.653947</td>\n",
       "      <td>-79.361149</td>\n",
       "      <td>Breakfast Spot</td>\n",
       "    </tr>\n",
       "    <tr>\n",
       "      <th>2</th>\n",
       "      <td>Regent Park, Harbourfront</td>\n",
       "      <td>43.65426</td>\n",
       "      <td>-79.360636</td>\n",
       "      <td>Brick Street Bakery</td>\n",
       "      <td>43.650574</td>\n",
       "      <td>-79.359539</td>\n",
       "      <td>Bakery</td>\n",
       "    </tr>\n",
       "    <tr>\n",
       "      <th>3</th>\n",
       "      <td>Regent Park, Harbourfront</td>\n",
       "      <td>43.65426</td>\n",
       "      <td>-79.360636</td>\n",
       "      <td>Figs Breakfast &amp; Lunch</td>\n",
       "      <td>43.655675</td>\n",
       "      <td>-79.364503</td>\n",
       "      <td>Breakfast Spot</td>\n",
       "    </tr>\n",
       "    <tr>\n",
       "      <th>4</th>\n",
       "      <td>Regent Park, Harbourfront</td>\n",
       "      <td>43.65426</td>\n",
       "      <td>-79.360636</td>\n",
       "      <td>Cluny Bistro &amp; Boulangerie</td>\n",
       "      <td>43.650565</td>\n",
       "      <td>-79.357843</td>\n",
       "      <td>French Restaurant</td>\n",
       "    </tr>\n",
       "  </tbody>\n",
       "</table>\n",
       "</div>"
      ],
      "text/plain": [
       "                Neighborhood  Neighborhood Latitude  Neighborhood Longitude  \\\n",
       "0  Regent Park, Harbourfront               43.65426              -79.360636   \n",
       "1  Regent Park, Harbourfront               43.65426              -79.360636   \n",
       "2  Regent Park, Harbourfront               43.65426              -79.360636   \n",
       "3  Regent Park, Harbourfront               43.65426              -79.360636   \n",
       "4  Regent Park, Harbourfront               43.65426              -79.360636   \n",
       "\n",
       "                        Venue  Venue Latitude  Venue Longitude  \\\n",
       "0              Impact Kitchen       43.656369       -79.356980   \n",
       "1          Morning Glory Cafe       43.653947       -79.361149   \n",
       "2         Brick Street Bakery       43.650574       -79.359539   \n",
       "3      Figs Breakfast & Lunch       43.655675       -79.364503   \n",
       "4  Cluny Bistro & Boulangerie       43.650565       -79.357843   \n",
       "\n",
       "      Venue Category  \n",
       "0         Restaurant  \n",
       "1     Breakfast Spot  \n",
       "2             Bakery  \n",
       "3     Breakfast Spot  \n",
       "4  French Restaurant  "
      ]
     },
     "execution_count": 20,
     "metadata": {},
     "output_type": "execute_result"
    }
   ],
   "source": [
    "print(toronto_venues.shape)\n",
    "toronto_venues.head()"
   ]
  },
  {
   "cell_type": "markdown",
   "metadata": {},
   "source": [
    "#### Let's group by Neighborhood and order by rating to see the neighborhoods with the best restaurants"
   ]
  },
  {
   "cell_type": "code",
   "execution_count": 21,
   "metadata": {},
   "outputs": [],
   "source": [
    "best_neigh = pd.DataFrame(columns = ['Neighborhood','Neighborhood Latitude','Neighborhood Longitude', 'Rating'])\n",
    "\n",
    "best_neigh[\"Neighborhood\"] = toronto_venues[\"Neighborhood\"].unique()\n",
    "best_neigh[\"Rating\"] = np.zeros(len(best_neigh[\"Neighborhood\"]))\n",
    "\n",
    "for indexN, neigh in best_neigh.iterrows():\n",
    "    for indexV, venue in (toronto_venues[toronto_venues[\"Neighborhood\"] == neigh[\"Neighborhood\"]]).iterrows():\n",
    "        best_neigh.iat[indexN,1] = venue[\"Neighborhood Latitude\"]\n",
    "        best_neigh.iat[indexN,2] = venue[\"Neighborhood Longitude\"]\n",
    "        r = restaurants_sorted[restaurants_sorted[\"name\"] == venue[\"Venue\"]]\n",
    "        if r.shape[0] > 0:\n",
    "            best_neigh.iat[indexN,3] += 1*r.iat[0,6]\n"
   ]
  },
  {
   "cell_type": "code",
   "execution_count": 22,
   "metadata": {},
   "outputs": [],
   "source": [
    "top5 = best_neigh.sort_values(by='Rating', ascending = False).reset_index(drop=True).head(5).copy()"
   ]
  },
  {
   "cell_type": "code",
   "execution_count": 23,
   "metadata": {},
   "outputs": [
    {
     "data": {
      "text/html": [
       "<div>\n",
       "<style scoped>\n",
       "    .dataframe tbody tr th:only-of-type {\n",
       "        vertical-align: middle;\n",
       "    }\n",
       "\n",
       "    .dataframe tbody tr th {\n",
       "        vertical-align: top;\n",
       "    }\n",
       "\n",
       "    .dataframe thead th {\n",
       "        text-align: right;\n",
       "    }\n",
       "</style>\n",
       "<table border=\"1\" class=\"dataframe\">\n",
       "  <thead>\n",
       "    <tr style=\"text-align: right;\">\n",
       "      <th></th>\n",
       "      <th>Neighborhood</th>\n",
       "      <th>Neighborhood Latitude</th>\n",
       "      <th>Neighborhood Longitude</th>\n",
       "      <th>Rating</th>\n",
       "    </tr>\n",
       "  </thead>\n",
       "  <tbody>\n",
       "    <tr>\n",
       "      <th>0</th>\n",
       "      <td>Richmond, Adelaide, King</td>\n",
       "      <td>43.6506</td>\n",
       "      <td>-79.3846</td>\n",
       "      <td>17.3</td>\n",
       "    </tr>\n",
       "    <tr>\n",
       "      <th>1</th>\n",
       "      <td>Commerce Court, Victoria Hotel</td>\n",
       "      <td>43.6482</td>\n",
       "      <td>-79.3798</td>\n",
       "      <td>16.8</td>\n",
       "    </tr>\n",
       "    <tr>\n",
       "      <th>2</th>\n",
       "      <td>Central Bay Street</td>\n",
       "      <td>43.658</td>\n",
       "      <td>-79.3874</td>\n",
       "      <td>16.1</td>\n",
       "    </tr>\n",
       "    <tr>\n",
       "      <th>3</th>\n",
       "      <td>St. James Town</td>\n",
       "      <td>43.6515</td>\n",
       "      <td>-79.3754</td>\n",
       "      <td>8.5</td>\n",
       "    </tr>\n",
       "    <tr>\n",
       "      <th>4</th>\n",
       "      <td>First Canadian Place, Underground city</td>\n",
       "      <td>43.6484</td>\n",
       "      <td>-79.3823</td>\n",
       "      <td>8.3</td>\n",
       "    </tr>\n",
       "  </tbody>\n",
       "</table>\n",
       "</div>"
      ],
      "text/plain": [
       "                             Neighborhood Neighborhood Latitude  \\\n",
       "0                Richmond, Adelaide, King               43.6506   \n",
       "1          Commerce Court, Victoria Hotel               43.6482   \n",
       "2                      Central Bay Street                43.658   \n",
       "3                          St. James Town               43.6515   \n",
       "4  First Canadian Place, Underground city               43.6484   \n",
       "\n",
       "  Neighborhood Longitude  Rating  \n",
       "0               -79.3846    17.3  \n",
       "1               -79.3798    16.8  \n",
       "2               -79.3874    16.1  \n",
       "3               -79.3754     8.5  \n",
       "4               -79.3823     8.3  "
      ]
     },
     "execution_count": 23,
     "metadata": {},
     "output_type": "execute_result"
    }
   ],
   "source": [
    "top5"
   ]
  },
  {
   "cell_type": "markdown",
   "metadata": {},
   "source": [
    "#### Showing 5 best neighborhoods"
   ]
  },
  {
   "cell_type": "code",
   "execution_count": 24,
   "metadata": {},
   "outputs": [
    {
     "data": {
      "text/html": [
       "<div style=\"width:100%;\"><div style=\"position:relative;width:100%;height:0;padding-bottom:60%;\"><span style=\"color:#565656\">Make this Notebook Trusted to load map: File -> Trust Notebook</span><iframe src=\"about:blank\" style=\"position:absolute;width:100%;height:100%;left:0;top:0;border:none !important;\" data-html=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 onload=\"this.contentDocument.open();this.contentDocument.write(atob(this.getAttribute('data-html')));this.contentDocument.close();\" allowfullscreen webkitallowfullscreen mozallowfullscreen></iframe></div></div>"
      ],
      "text/plain": [
       "<folium.folium.Map at 0x2e82c7ec370>"
      ]
     },
     "execution_count": 24,
     "metadata": {},
     "output_type": "execute_result"
    }
   ],
   "source": [
    "# create map of Toronto using latitude and longitude values\n",
    "map_toronto = folium.Map(location=[latitude, longitude], zoom_start=13)\n",
    "\n",
    "num = 1\n",
    "# add markers to map\n",
    "for lat, lng, name in zip(top5['Neighborhood Latitude'], top5['Neighborhood Longitude'], top5['Neighborhood']):\n",
    "    label = '{}'.format(name)\n",
    "    label = folium.Popup(label, parse_html=True)\n",
    "    folium.CircleMarker(\n",
    "        [lat, lng],\n",
    "        radius=10,\n",
    "        popup=label,\n",
    "        color='red',\n",
    "        fill=True,\n",
    "        fill_color='#3186cc',\n",
    "        fill_opacity=0.7,\n",
    "        parse_html=False).add_to(map_toronto)\n",
    "    folium.map.Marker(\n",
    "    [lat+0.0015, lng-0.0007],\n",
    "    icon=DivIcon(\n",
    "        icon_size=(75,36),\n",
    "        icon_anchor=(0,0),\n",
    "        html='<div style=\"font-size: 12pt\">%s</div>' % num,\n",
    "        )\n",
    "    ).add_to(map_toronto)\n",
    "    num+=1\n",
    "    \n",
    "map_toronto"
   ]
  },
  {
   "cell_type": "markdown",
   "metadata": {},
   "source": [
    "#### Calling Foursquare to get the best hotels in the best neighborhood"
   ]
  },
  {
   "cell_type": "code",
   "execution_count": 25,
   "metadata": {},
   "outputs": [],
   "source": [
    "LIMIT = 3 # limit of number of venues returned by Foursquare API\n",
    "\n",
    "query = \"Good Hotels\"\n",
    "\n",
    "radius = 500 # define radius\n",
    "\n",
    "# create URL\n",
    "url = 'https://api.foursquare.com/v2/venues/explore?&client_id={}&client_secret={}&v={}&ll={},{}&query={}&radius={}&limit={}'.format(\n",
    "    CLIENT_ID, \n",
    "    CLIENT_SECRET, \n",
    "    VERSION, \n",
    "    top5.at[0,\"Neighborhood Latitude\"], \n",
    "    top5.at[0,\"Neighborhood Longitude\"],\n",
    "    query,\n",
    "    radius, \n",
    "    LIMIT)"
   ]
  },
  {
   "cell_type": "code",
   "execution_count": 26,
   "metadata": {},
   "outputs": [],
   "source": [
    "best_hotels = requests.get(url).json()"
   ]
  },
  {
   "cell_type": "code",
   "execution_count": 27,
   "metadata": {},
   "outputs": [
    {
     "name": "stderr",
     "output_type": "stream",
     "text": [
      "<ipython-input-27-a9c99ef3c08b>:3: FutureWarning: pandas.io.json.json_normalize is deprecated, use pandas.json_normalize instead\n",
      "  best_hotels = json_normalize(hotels) # flatten JSON\n"
     ]
    },
    {
     "data": {
      "text/html": [
       "<div>\n",
       "<style scoped>\n",
       "    .dataframe tbody tr th:only-of-type {\n",
       "        vertical-align: middle;\n",
       "    }\n",
       "\n",
       "    .dataframe tbody tr th {\n",
       "        vertical-align: top;\n",
       "    }\n",
       "\n",
       "    .dataframe thead th {\n",
       "        text-align: right;\n",
       "    }\n",
       "</style>\n",
       "<table border=\"1\" class=\"dataframe\">\n",
       "  <thead>\n",
       "    <tr style=\"text-align: right;\">\n",
       "      <th></th>\n",
       "      <th>id</th>\n",
       "      <th>name</th>\n",
       "      <th>categories</th>\n",
       "      <th>lat</th>\n",
       "      <th>lng</th>\n",
       "    </tr>\n",
       "  </thead>\n",
       "  <tbody>\n",
       "    <tr>\n",
       "      <th>0</th>\n",
       "      <td>4ab2d511f964a5209b6c20e3</td>\n",
       "      <td>Sheraton Centre Toronto Hotel</td>\n",
       "      <td>Hotel</td>\n",
       "      <td>43.650594</td>\n",
       "      <td>-79.384530</td>\n",
       "    </tr>\n",
       "    <tr>\n",
       "      <th>1</th>\n",
       "      <td>4e31b74252b131dcebb08743</td>\n",
       "      <td>Shangri-La Toronto</td>\n",
       "      <td>Hotel</td>\n",
       "      <td>43.649129</td>\n",
       "      <td>-79.386557</td>\n",
       "    </tr>\n",
       "    <tr>\n",
       "      <th>2</th>\n",
       "      <td>52ce14b0498e50457ce11780</td>\n",
       "      <td>DoubleTree by Hilton</td>\n",
       "      <td>Hotel</td>\n",
       "      <td>43.654608</td>\n",
       "      <td>-79.385942</td>\n",
       "    </tr>\n",
       "  </tbody>\n",
       "</table>\n",
       "</div>"
      ],
      "text/plain": [
       "                         id                           name categories  \\\n",
       "0  4ab2d511f964a5209b6c20e3  Sheraton Centre Toronto Hotel      Hotel   \n",
       "1  4e31b74252b131dcebb08743             Shangri-La Toronto      Hotel   \n",
       "2  52ce14b0498e50457ce11780           DoubleTree by Hilton      Hotel   \n",
       "\n",
       "         lat        lng  \n",
       "0  43.650594 -79.384530  \n",
       "1  43.649129 -79.386557  \n",
       "2  43.654608 -79.385942  "
      ]
     },
     "execution_count": 27,
     "metadata": {},
     "output_type": "execute_result"
    }
   ],
   "source": [
    "hotels = best_hotels['response']['groups'][0]['items']\n",
    "    \n",
    "best_hotels = json_normalize(hotels) # flatten JSON\n",
    "\n",
    "# filter columns\n",
    "filtered_columns = ['venue.id','venue.name', 'venue.categories', 'venue.location.lat', 'venue.location.lng']\n",
    "best_hotels = best_hotels.loc[:, filtered_columns]\n",
    "\n",
    "# filter the category for each row\n",
    "best_hotels['venue.categories'] = best_hotels.apply(get_category_type, axis=1)\n",
    "\n",
    "# clean columns\n",
    "best_hotels.columns = [col.split(\".\")[-1] for col in best_hotels.columns]\n",
    "\n",
    "best_hotels.head(3)"
   ]
  },
  {
   "cell_type": "markdown",
   "metadata": {},
   "source": [
    "#### Showing the map with the best hotels in those neighborhoods"
   ]
  },
  {
   "cell_type": "code",
   "execution_count": 28,
   "metadata": {},
   "outputs": [
    {
     "data": {
      "text/html": [
       "<div style=\"width:100%;\"><div style=\"position:relative;width:100%;height:0;padding-bottom:60%;\"><span style=\"color:#565656\">Make this Notebook Trusted to load map: File -> Trust Notebook</span><iframe src=\"about:blank\" style=\"position:absolute;width:100%;height:100%;left:0;top:0;border:none !important;\" data-html=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 onload=\"this.contentDocument.open();this.contentDocument.write(atob(this.getAttribute('data-html')));this.contentDocument.close();\" allowfullscreen webkitallowfullscreen mozallowfullscreen></iframe></div></div>"
      ],
      "text/plain": [
       "<folium.folium.Map at 0x2e82c6d2f40>"
      ]
     },
     "execution_count": 28,
     "metadata": {},
     "output_type": "execute_result"
    }
   ],
   "source": [
    "# create map of Toronto using latitude and longitude values\n",
    "map_toronto = folium.Map(location=[latitude, longitude], zoom_start=14)\n",
    "\n",
    "# add markers to map\n",
    "for lat, lng, name in zip(best_hotels['lat'], best_hotels['lng'], best_hotels['name']):\n",
    "    label = '{}'.format(name)\n",
    "    label = folium.Popup(label, parse_html=True)\n",
    "    folium.CircleMarker(\n",
    "        [lat, lng],\n",
    "        radius=10,\n",
    "        popup=label,\n",
    "        color='green',\n",
    "        fill=True,\n",
    "        fill_color='#3186cc',\n",
    "        fill_opacity=0.7,\n",
    "        parse_html=False).add_to(map_toronto)\n",
    "    \n",
    "map_toronto"
   ]
  }
 ],
 "metadata": {
  "kernelspec": {
   "display_name": "Python 3",
   "language": "python",
   "name": "python3"
  },
  "language_info": {
   "codemirror_mode": {
    "name": "ipython",
    "version": 3
   },
   "file_extension": ".py",
   "mimetype": "text/x-python",
   "name": "python",
   "nbconvert_exporter": "python",
   "pygments_lexer": "ipython3",
   "version": "3.8.5"
  }
 },
 "nbformat": 4,
 "nbformat_minor": 4
}
